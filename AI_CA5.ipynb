{
  "nbformat": 4,
  "nbformat_minor": 0,
  "metadata": {
    "colab": {
      "name": "AI_CA5.ipynb",
      "version": "0.3.2",
      "provenance": [],
      "collapsed_sections": [],
      "include_colab_link": true
    },
    "language_info": {
      "codemirror_mode": {
        "name": "ipython",
        "version": 3
      },
      "file_extension": ".py",
      "mimetype": "text/x-python",
      "name": "python",
      "nbconvert_exporter": "python",
      "pygments_lexer": "ipython3",
      "version": "3.6.6"
    },
    "kernelspec": {
      "display_name": "Python 3",
      "language": "python",
      "name": "python3"
    }
  },
  "cells": [
    {
      "cell_type": "markdown",
      "metadata": {
        "id": "view-in-github",
        "colab_type": "text"
      },
      "source": [
        "<a href=\"https://colab.research.google.com/github/mahdifarhang/AI_CA5/blob/master/AI_CA5.ipynb\" target=\"_parent\"><img src=\"https://colab.research.google.com/assets/colab-badge.svg\" alt=\"Open In Colab\"/></a>"
      ]
    },
    {
      "cell_type": "markdown",
      "metadata": {
        "id": "GbCVuQPeUXJo",
        "colab_type": "text"
      },
      "source": [
        "# **گزارش کار تمرین کامپیوتری پنجم درس هوش مصنوعی**"
      ]
    },
    {
      "cell_type": "markdown",
      "metadata": {
        "id": "ejKQkT6jWy8x",
        "colab_type": "text"
      },
      "source": [
        "# سوال اول"
      ]
    },
    {
      "cell_type": "code",
      "metadata": {
        "id": "_WpFOxZ7mGnl",
        "colab_type": "code",
        "colab": {}
      },
      "source": [
        "import torch\n",
        "import torchvision\n",
        "import torchvision.transforms as transforms"
      ],
      "execution_count": 0,
      "outputs": []
    },
    {
      "cell_type": "code",
      "metadata": {
        "id": "f3Bf3dgtmGnn",
        "colab_type": "code",
        "outputId": "f7747664-846d-47a9-a28c-c85a23b13814",
        "colab": {
          "base_uri": "https://localhost:8080/",
          "height": 51
        }
      },
      "source": [
        "transform = transforms.Compose(\n",
        "    [transforms.ToTensor()])\n",
        "\n",
        "trainset = torchvision.datasets.CIFAR10(root='./data', train=True,\n",
        "                                        download=True, transform=transform)\n",
        "trainloader = torch.utils.data.DataLoader(trainset, batch_size=32,\n",
        "                                          shuffle=True, num_workers=2)\n",
        "\n",
        "testset = torchvision.datasets.CIFAR10(root='./data', train=False,\n",
        "                                       download=True, transform=transform)\n",
        "testloader = torch.utils.data.DataLoader(testset, batch_size=32,\n",
        "                                         shuffle=False, num_workers=2)\n",
        "\n",
        "classes = ('plane', 'car', 'bird', 'cat',\n",
        "           'deer', 'dog', 'frog', 'horse', 'ship', 'truck')"
      ],
      "execution_count": 0,
      "outputs": [
        {
          "output_type": "stream",
          "text": [
            "Files already downloaded and verified\n",
            "Files already downloaded and verified\n"
          ],
          "name": "stdout"
        }
      ]
    },
    {
      "cell_type": "markdown",
      "metadata": {
        "id": "ksCT0xMTmGns",
        "colab_type": "text"
      },
      "source": [
        "1. Define a Convolution Neural Network\n",
        "\n",
        "here we define our neural network\n"
      ]
    },
    {
      "cell_type": "code",
      "metadata": {
        "id": "U-BY9_XDmGns",
        "colab_type": "code",
        "colab": {}
      },
      "source": [
        "import torch.nn as nn\n",
        "import torch.nn.functional as F\n",
        "\n",
        "\n",
        "class Net(nn.Module):\n",
        "    def __init__(self):\n",
        "        super(Net, self).__init__()\n",
        "        self.conv1 = nn.Conv2d(3, 6, 5)\n",
        "        self.pool = nn.MaxPool2d(2, 2)\n",
        "        self.conv2 = nn.Conv2d(6, 16, 5)\n",
        "        self.fc1 = nn.Linear(16 * 5 * 5, 10)\n",
        "\n",
        "\n",
        "    def forward(self, x):\n",
        "        x = self.pool(F.relu(self.conv1(x)))\n",
        "        x = self.pool(F.relu(self.conv2(x)))\n",
        "        x = x.view(-1, 16 * 5 * 5)\n",
        "        x = self.fc1(x)\n",
        "        return x\n",
        "\n",
        "\n",
        "net = Net()"
      ],
      "execution_count": 0,
      "outputs": []
    },
    {
      "cell_type": "markdown",
      "metadata": {
        "id": "DxTpy91eXURb",
        "colab_type": "text"
      },
      "source": [
        "## با وزن های تصادفی "
      ]
    },
    {
      "cell_type": "code",
      "metadata": {
        "id": "XX8ENlRrNiS_",
        "colab_type": "code",
        "outputId": "70b46ddb-b153-4450-a288-552f134984a0",
        "colab": {
          "base_uri": "https://localhost:8080/",
          "height": 170
        }
      },
      "source": [
        "torch.nn.init.xavier_uniform_(net.conv1.weight)\n",
        "torch.nn.init.xavier_uniform_(net.conv2.weight)\n",
        "torch.nn.init.xavier_uniform_(net.fc1.weight)"
      ],
      "execution_count": 0,
      "outputs": [
        {
          "output_type": "execute_result",
          "data": {
            "text/plain": [
              "Parameter containing:\n",
              "tensor([[-0.1035,  0.1174,  0.0942,  ..., -0.1038, -0.0324,  0.0116],\n",
              "        [-0.0154,  0.0285, -0.0126,  ...,  0.0056,  0.0538,  0.0255],\n",
              "        [ 0.1059, -0.1133,  0.0189,  ..., -0.1028,  0.0050,  0.0533],\n",
              "        ...,\n",
              "        [-0.1060, -0.0621, -0.1131,  ...,  0.0804, -0.0519,  0.0149],\n",
              "        [ 0.0232,  0.1187, -0.0443,  ...,  0.0157,  0.0144,  0.0457],\n",
              "        [-0.0270, -0.1112,  0.0625,  ...,  0.0074,  0.1119, -0.1076]],\n",
              "       requires_grad=True)"
            ]
          },
          "metadata": {
            "tags": []
          },
          "execution_count": 83
        }
      ]
    },
    {
      "cell_type": "markdown",
      "metadata": {
        "id": "sgu1IzD2mGnx",
        "colab_type": "text"
      },
      "source": [
        "2. Define a Loss function and optimizer\n",
        "\n",
        "\n",
        "\n",
        "Let's use a Classification Cross-Entropy loss and SGD with momentum.\n",
        "\n"
      ]
    },
    {
      "cell_type": "code",
      "metadata": {
        "id": "CYlYectjZ7I-",
        "colab_type": "code",
        "colab": {}
      },
      "source": [
        "import torch.optim as optim\n",
        "\n",
        "criterion = nn.CrossEntropyLoss()\n",
        "optimizer = optim.SGD(net.parameters(), lr=0.001, momentum=0.9)"
      ],
      "execution_count": 0,
      "outputs": []
    },
    {
      "cell_type": "markdown",
      "metadata": {
        "id": "tRFE-SyvmGnz",
        "colab_type": "text"
      },
      "source": [
        "3. Train the network\n",
        "\n",
        "We simply have to loop over our data iterator, and feed the inputs to the\n",
        "network and optimize.\n",
        "\n"
      ]
    },
    {
      "cell_type": "code",
      "metadata": {
        "id": "Mf4j0iX_Z7YK",
        "colab_type": "code",
        "outputId": "921c65c6-bee2-42f1-edf3-638ddf5780b0",
        "colab": {
          "base_uri": "https://localhost:8080/",
          "height": 289
        }
      },
      "source": [
        "for epoch in range(5):  # loop over the dataset multiple times\n",
        "\n",
        "    running_loss = 0.0\n",
        "    for i, data in enumerate(trainloader, 0):\n",
        "        # get the inputs\n",
        "        inputs, labels = data\n",
        "        # zero the parameter gradients\n",
        "        optimizer.zero_grad()\n",
        "\n",
        "        # forward + backward + optimize\n",
        "        outputs = net(inputs)\n",
        "        loss = criterion(outputs, labels)\n",
        "        loss.backward()\n",
        "        optimizer.step()\n",
        "\n",
        "        # print statistics\n",
        "        running_loss += loss.item()\n",
        "        if i % 500 == 499:    # print every 500 mini-batches\n",
        "            print('[%d, %5d] loss: %.3f' %\n",
        "                  (epoch + 1, i + 1, running_loss / 500))\n",
        "            running_loss = 0.0\n",
        "\n",
        "print('Finished Training')"
      ],
      "execution_count": 0,
      "outputs": [
        {
          "output_type": "stream",
          "text": [
            "[1,   500] loss: 1.589\n",
            "[1,  1000] loss: 1.572\n",
            "[1,  1500] loss: 1.546\n",
            "[2,   500] loss: 1.514\n",
            "[2,  1000] loss: 1.492\n",
            "[2,  1500] loss: 1.472\n",
            "[3,   500] loss: 1.438\n",
            "[3,  1000] loss: 1.432\n",
            "[3,  1500] loss: 1.409\n",
            "[4,   500] loss: 1.379\n",
            "[4,  1000] loss: 1.394\n",
            "[4,  1500] loss: 1.366\n",
            "[5,   500] loss: 1.350\n",
            "[5,  1000] loss: 1.346\n",
            "[5,  1500] loss: 1.334\n",
            "Finished Training\n"
          ],
          "name": "stdout"
        }
      ]
    },
    {
      "cell_type": "markdown",
      "metadata": {
        "id": "xFw8puxKmGn3",
        "colab_type": "text"
      },
      "source": [
        "4. Test the network on the test data\n",
        "\n",
        "\n",
        "We have trained the network for 2 passes over the training dataset.\n",
        "But we need to check if the network has learnt anything at all.\n",
        "\n",
        "We will check this by predicting the class label that the neural network\n",
        "outputs, and checking it against the ground-truth. If the prediction is\n",
        "correct, we add the sample to the list of correct predictions.\n",
        "\n"
      ]
    },
    {
      "cell_type": "code",
      "metadata": {
        "id": "ZFIPYpNIZ7gu",
        "colab_type": "code",
        "outputId": "981fe9dc-be44-474d-9933-6e8d4b11e9ba",
        "colab": {
          "base_uri": "https://localhost:8080/",
          "height": 34
        }
      },
      "source": [
        "correct = 0\n",
        "total = 0\n",
        "with torch.no_grad():\n",
        "    for data in testloader:\n",
        "        images, labels = data\n",
        "        outputs = net(images)\n",
        "        _, predicted = torch.max(outputs.data, 1)\n",
        "        total += labels.size(0)\n",
        "        correct += (predicted == labels).sum().item()\n",
        "\n",
        "print('Accuracy of the network on the 10000 test images: %d %%' % (\n",
        "    100 * correct / total))"
      ],
      "execution_count": 0,
      "outputs": [
        {
          "output_type": "stream",
          "text": [
            "Accuracy of the network on the 10000 test images: 52 %\n"
          ],
          "name": "stdout"
        }
      ]
    },
    {
      "cell_type": "markdown",
      "metadata": {
        "id": "8mlxyeTQbVGX",
        "colab_type": "text"
      },
      "source": [
        "به دست آمد که دقت داده های تست ما بر روی ۱۰۰۰ داده برابر 52 درصد است. "
      ]
    },
    {
      "cell_type": "markdown",
      "metadata": {
        "id": "KV4QS1DKc7gi",
        "colab_type": "text"
      },
      "source": [
        "## با وزن های صفر:"
      ]
    },
    {
      "cell_type": "code",
      "metadata": {
        "id": "LTxZJoIiOSu4",
        "colab_type": "code",
        "outputId": "3cecf11b-f3bb-4179-f880-5d1bd7ec81b4",
        "colab": {
          "base_uri": "https://localhost:8080/",
          "height": 153
        }
      },
      "source": [
        "torch.nn.init.zeros_(net.conv1.bias)\n",
        "torch.nn.init.zeros_(net.conv1.weight)\n",
        "torch.nn.init.zeros_(net.conv2.bias)\n",
        "torch.nn.init.zeros_(net.conv2.weight)\n",
        "torch.nn.init.zeros_(net.fc1.bias)\n",
        "torch.nn.init.zeros_(net.fc1.weight)"
      ],
      "execution_count": 0,
      "outputs": [
        {
          "output_type": "execute_result",
          "data": {
            "text/plain": [
              "Parameter containing:\n",
              "tensor([[0., 0., 0.,  ..., 0., 0., 0.],\n",
              "        [0., 0., 0.,  ..., 0., 0., 0.],\n",
              "        [0., 0., 0.,  ..., 0., 0., 0.],\n",
              "        ...,\n",
              "        [0., 0., 0.,  ..., 0., 0., 0.],\n",
              "        [0., 0., 0.,  ..., 0., 0., 0.],\n",
              "        [0., 0., 0.,  ..., 0., 0., 0.]], requires_grad=True)"
            ]
          },
          "metadata": {
            "tags": []
          },
          "execution_count": 91
        }
      ]
    },
    {
      "cell_type": "code",
      "metadata": {
        "id": "UE-_THt6mGnx",
        "colab_type": "code",
        "colab": {}
      },
      "source": [
        "import torch.optim as optim\n",
        "\n",
        "criterion = nn.CrossEntropyLoss()\n",
        "optimizer = optim.SGD(net.parameters(), lr=0.001, momentum=0.9)"
      ],
      "execution_count": 0,
      "outputs": []
    },
    {
      "cell_type": "code",
      "metadata": {
        "id": "1BxGvvRumGn0",
        "colab_type": "code",
        "outputId": "c36cee44-6720-4d85-b3ec-4ceb13e7477e",
        "colab": {
          "base_uri": "https://localhost:8080/",
          "height": 289
        }
      },
      "source": [
        "for epoch in range(5):  # loop over the dataset multiple times\n",
        "\n",
        "    running_loss = 0.0\n",
        "    for i, data in enumerate(trainloader, 0):\n",
        "        # get the inputs\n",
        "        inputs, labels = data\n",
        "        # zero the parameter gradients\n",
        "        optimizer.zero_grad()\n",
        "\n",
        "        # forward + backward + optimize\n",
        "        outputs = net(inputs)\n",
        "        loss = criterion(outputs, labels)\n",
        "        loss.backward()\n",
        "        optimizer.step()\n",
        "\n",
        "        # print statistics\n",
        "        running_loss += loss.item()\n",
        "        if i % 500 == 499:    # print every 500 mini-batches\n",
        "            print('[%d, %5d] loss: %.3f' %\n",
        "                  (epoch + 1, i + 1, running_loss / 500))\n",
        "            running_loss = 0.0\n",
        "\n",
        "print('Finished Training')"
      ],
      "execution_count": 0,
      "outputs": [
        {
          "output_type": "stream",
          "text": [
            "[1,   500] loss: 2.303\n",
            "[1,  1000] loss: 2.303\n",
            "[1,  1500] loss: 2.303\n",
            "[2,   500] loss: 2.303\n",
            "[2,  1000] loss: 2.303\n",
            "[2,  1500] loss: 2.303\n",
            "[3,   500] loss: 2.303\n",
            "[3,  1000] loss: 2.303\n",
            "[3,  1500] loss: 2.303\n",
            "[4,   500] loss: 2.303\n",
            "[4,  1000] loss: 2.303\n",
            "[4,  1500] loss: 2.303\n",
            "[5,   500] loss: 2.303\n",
            "[5,  1000] loss: 2.303\n",
            "[5,  1500] loss: 2.303\n",
            "Finished Training\n"
          ],
          "name": "stdout"
        }
      ]
    },
    {
      "cell_type": "markdown",
      "metadata": {
        "id": "o43RFaZweBQR",
        "colab_type": "text"
      },
      "source": [
        "همانطور که مشاهده میشود، خطا طی تمرین های متوالی و بیشتر کم نمیشود. که البته این مسئله طبیعی به نظر میرسد و ما این را پیشبینی میکردیم.\n",
        "علت این است که چون ضرایب صفر است، تمرین های قبلی تاثیری را به وجود نمی آورد."
      ]
    },
    {
      "cell_type": "code",
      "metadata": {
        "id": "0Do6aTeHmGoC",
        "colab_type": "code",
        "outputId": "e1ab3340-ed1e-4b36-932d-f92e1bb6ba55",
        "colab": {
          "base_uri": "https://localhost:8080/",
          "height": 34
        }
      },
      "source": [
        "correct = 0\n",
        "total = 0\n",
        "with torch.no_grad():\n",
        "    for data in testloader:\n",
        "        images, labels = data\n",
        "        outputs = net(images)\n",
        "        _, predicted = torch.max(outputs.data, 1)\n",
        "        total += labels.size(0)\n",
        "        correct += (predicted == labels).sum().item()\n",
        "\n",
        "print('Accuracy of the network on the 10000 test images: %d %%' % (\n",
        "    100 * correct / total))"
      ],
      "execution_count": 0,
      "outputs": [
        {
          "output_type": "stream",
          "text": [
            "Accuracy of the network on the 10000 test images: 10 %\n"
          ],
          "name": "stdout"
        }
      ]
    },
    {
      "cell_type": "markdown",
      "metadata": {
        "id": "QYLrxKOvmGoE",
        "colab_type": "text"
      },
      "source": [
        "این بار دقت ما به ۱۰ درصد کاهش پیدا کرد.و این عدد نیز قابل پیشبینی بود. یعنی کاملا رندوم تشخیص داده است.(چون ۱۰نوع خروجی داریم) و این مسئله طبیعی است چون آموزش (همانطور که دیده شد) انجام نمیشود."
      ]
    },
    {
      "cell_type": "markdown",
      "metadata": {
        "id": "57Rv2f83e36W",
        "colab_type": "text"
      },
      "source": [
        "بدیهی است که وزن های رندوم نتیجه ی بهتری به ما میدهد"
      ]
    },
    {
      "cell_type": "markdown",
      "metadata": {
        "id": "tSjFZ3cqfFMY",
        "colab_type": "text"
      },
      "source": [
        "# سوال دوم"
      ]
    },
    {
      "cell_type": "markdown",
      "metadata": {
        "id": "K1sieyKqfuBp",
        "colab_type": "text"
      },
      "source": [
        "یک convolution layar از  network خود کم میکنیم"
      ]
    },
    {
      "cell_type": "markdown",
      "metadata": {
        "id": "VissjFHHu3C4",
        "colab_type": "text"
      },
      "source": [
        "## Conv2d(3, 8, 5)"
      ]
    },
    {
      "cell_type": "code",
      "metadata": {
        "colab_type": "code",
        "id": "IgHa5SC0feRv",
        "colab": {}
      },
      "source": [
        "import torch.nn as nn\n",
        "import torch.nn.functional as F\n",
        "\n",
        "\n",
        "class Net(nn.Module):\n",
        "    def __init__(self):\n",
        "        super(Net, self).__init__()\n",
        "        self.conv1 = nn.Conv2d(3, 8, 5)\n",
        "        self.pool = nn.MaxPool2d(2, 2)\n",
        "        self.fc1 = nn.Linear(8 * 14 * 14, 10)\n",
        "\n",
        "\n",
        "    def forward(self, x):\n",
        "        x = self.pool(F.relu(self.conv1(x)))\n",
        "#         print(x.size())\n",
        "        x = x.view(-1, 8 * 14 * 14)\n",
        "        x = self.fc1(x)\n",
        "        return x\n",
        "\n",
        "\n",
        "net = Net()"
      ],
      "execution_count": 0,
      "outputs": []
    },
    {
      "cell_type": "markdown",
      "metadata": {
        "colab_type": "text",
        "id": "tsjpFgVLvIdm"
      },
      "source": [
        "برای پیدا کردن عدد ۱۴ که در کد نوشته شده، بعد از کانوالو در تابع فوروارد، مقدار اندازه ایکس را چاپ میکنیم\n",
        "یک آرایه ی چهار تایی میگیریم که سه عدد نهایی آن همان عددی است که باید به ورودی تابع خطی داده شود.\n",
        "\n"
      ]
    },
    {
      "cell_type": "code",
      "metadata": {
        "colab_type": "code",
        "outputId": "1f617563-ee22-4c27-fcd7-d62d8830dff1",
        "id": "-_fxMyw6vIdp",
        "colab": {
          "base_uri": "https://localhost:8080/",
          "height": 170
        }
      },
      "source": [
        "torch.nn.init.xavier_uniform_(net.conv1.weight)\n",
        "torch.nn.init.xavier_uniform_(net.fc1.weight)"
      ],
      "execution_count": 0,
      "outputs": [
        {
          "output_type": "execute_result",
          "data": {
            "text/plain": [
              "Parameter containing:\n",
              "tensor([[ 0.0149,  0.0327,  0.0576,  ...,  0.0049,  0.0163, -0.0131],\n",
              "        [-0.0466,  0.0394, -0.0262,  ...,  0.0403, -0.0639, -0.0224],\n",
              "        [-0.0399, -0.0035,  0.0675,  ...,  0.0345, -0.0606,  0.0317],\n",
              "        ...,\n",
              "        [ 0.0061, -0.0708,  0.0649,  ...,  0.0484, -0.0608, -0.0127],\n",
              "        [-0.0458,  0.0252,  0.0254,  ...,  0.0465, -0.0679, -0.0312],\n",
              "        [ 0.0117,  0.0260,  0.0681,  ...,  0.0178,  0.0545,  0.0615]],\n",
              "       requires_grad=True)"
            ]
          },
          "metadata": {
            "tags": []
          },
          "execution_count": 176
        }
      ]
    },
    {
      "cell_type": "code",
      "metadata": {
        "colab_type": "code",
        "id": "G0nBc9_KvIdx",
        "colab": {}
      },
      "source": [
        "import torch.optim as optim\n",
        "\n",
        "criterion = nn.CrossEntropyLoss()\n",
        "optimizer = optim.SGD(net.parameters(), lr=0.001, momentum=0.9)"
      ],
      "execution_count": 0,
      "outputs": []
    },
    {
      "cell_type": "code",
      "metadata": {
        "colab_type": "code",
        "outputId": "4ac4047c-57b5-45d7-d609-b829cf02a8e2",
        "id": "pu1x41iXvId2",
        "colab": {
          "base_uri": "https://localhost:8080/",
          "height": 289
        }
      },
      "source": [
        "for epoch in range(5):  # loop over the dataset multiple times\n",
        "\n",
        "    running_loss = 0.0\n",
        "    for i, data in enumerate(trainloader, 0):\n",
        "        # get the inputs\n",
        "        inputs, labels = data\n",
        "        # zero the parameter gradients\n",
        "        optimizer.zero_grad()\n",
        "\n",
        "        # forward + backward + optimize\n",
        "        outputs = net(inputs)\n",
        "        loss = criterion(outputs, labels)\n",
        "        loss.backward()\n",
        "        optimizer.step()\n",
        "\n",
        "        # print statistics\n",
        "        running_loss += loss.item()\n",
        "        if i % 500 == 499:    # print every 500 mini-batches\n",
        "            print('[%d, %5d] loss: %.3f' %\n",
        "                  (epoch + 1, i + 1, running_loss / 500))\n",
        "            running_loss = 0.0\n",
        "\n",
        "print('Finished Training')"
      ],
      "execution_count": 0,
      "outputs": [
        {
          "output_type": "stream",
          "text": [
            "[1,   500] loss: 2.133\n",
            "[1,  1000] loss: 1.920\n",
            "[1,  1500] loss: 1.837\n",
            "[2,   500] loss: 1.762\n",
            "[2,  1000] loss: 1.689\n",
            "[2,  1500] loss: 1.682\n",
            "[3,   500] loss: 1.637\n",
            "[3,  1000] loss: 1.627\n",
            "[3,  1500] loss: 1.603\n",
            "[4,   500] loss: 1.587\n",
            "[4,  1000] loss: 1.569\n",
            "[4,  1500] loss: 1.575\n",
            "[5,   500] loss: 1.545\n",
            "[5,  1000] loss: 1.547\n",
            "[5,  1500] loss: 1.533\n",
            "Finished Training\n"
          ],
          "name": "stdout"
        }
      ]
    },
    {
      "cell_type": "code",
      "metadata": {
        "colab_type": "code",
        "outputId": "de5c48a8-28fb-44e0-9538-cc7a8b612dfe",
        "id": "tSyJ4-XRvIeB",
        "colab": {
          "base_uri": "https://localhost:8080/",
          "height": 34
        }
      },
      "source": [
        "correct = 0\n",
        "total = 0\n",
        "with torch.no_grad():\n",
        "    for data in testloader:\n",
        "        images, labels = data\n",
        "        outputs = net(images)\n",
        "        _, predicted = torch.max(outputs.data, 1)\n",
        "        total += labels.size(0)\n",
        "        correct += (predicted == labels).sum().item()\n",
        "\n",
        "print('Accuracy of the network on the 10000 test images: %d %%' % (\n",
        "    100 * correct / total))"
      ],
      "execution_count": 0,
      "outputs": [
        {
          "output_type": "stream",
          "text": [
            "Accuracy of the network on the 10000 test images: 49 %\n"
          ],
          "name": "stdout"
        }
      ]
    },
    {
      "cell_type": "markdown",
      "metadata": {
        "colab_type": "text",
        "id": "nexz_p4pvIeL"
      },
      "source": [
        "همانطور که انتظار میرفت، دقت داده های ما از ۵۲ به 49 کاهش پیدا کرد. این کاهش طبیعی است زیرا یک لایه از لایه های شبکه عصبی ما کم شده است و دقت خروجی ما طبیعتا کاهش پیدا میکند.\n"
      ]
    },
    {
      "cell_type": "markdown",
      "metadata": {
        "id": "jkr6K4EMvQoz",
        "colab_type": "text"
      },
      "source": [
        "## Conv2d(3, 6, 5)"
      ]
    },
    {
      "cell_type": "code",
      "metadata": {
        "id": "84Fvz4shuYC6",
        "colab_type": "code",
        "colab": {}
      },
      "source": [
        "import torch.nn as nn\n",
        "import torch.nn.functional as F\n",
        "\n",
        "\n",
        "class Net(nn.Module):\n",
        "    def __init__(self):\n",
        "        super(Net, self).__init__()\n",
        "        self.conv1 = nn.Conv2d(3, 6, 5)\n",
        "        self.pool = nn.MaxPool2d(2, 2)\n",
        "        self.fc1 = nn.Linear(6 * 14 * 14, 10)\n",
        "\n",
        "\n",
        "    def forward(self, x):\n",
        "        x = self.pool(F.relu(self.conv1(x)))\n",
        "#         print(x.size())\n",
        "        x = x.view(-1, 6 * 14 * 14)\n",
        "        x = self.fc1(x)\n",
        "        return x\n",
        "\n",
        "\n",
        "net = Net()"
      ],
      "execution_count": 0,
      "outputs": []
    },
    {
      "cell_type": "markdown",
      "metadata": {
        "id": "2OUv7AxUnKIZ",
        "colab_type": "text"
      },
      "source": [
        "برای پیدا کردن عدد ۱۴ که در کد نوشته شده، بعد از کانوالو در تابع فوروارد، مقدار اندازه ایکس را چاپ میکنیم\n",
        "یک آرایه ی چهار تایی میگیریم که سه عدد نهایی آن همان عددی است که باید به ورودی تابع خطی داده شود.\n",
        "\n"
      ]
    },
    {
      "cell_type": "code",
      "metadata": {
        "colab_type": "code",
        "outputId": "1f617563-ee22-4c27-fcd7-d62d8830dff1",
        "id": "YvhehHTqgo3c",
        "colab": {
          "base_uri": "https://localhost:8080/",
          "height": 170
        }
      },
      "source": [
        "torch.nn.init.xavier_uniform_(net.conv1.weight)\n",
        "torch.nn.init.xavier_uniform_(net.fc1.weight)"
      ],
      "execution_count": 0,
      "outputs": [
        {
          "output_type": "execute_result",
          "data": {
            "text/plain": [
              "Parameter containing:\n",
              "tensor([[ 0.0149,  0.0327,  0.0576,  ...,  0.0049,  0.0163, -0.0131],\n",
              "        [-0.0466,  0.0394, -0.0262,  ...,  0.0403, -0.0639, -0.0224],\n",
              "        [-0.0399, -0.0035,  0.0675,  ...,  0.0345, -0.0606,  0.0317],\n",
              "        ...,\n",
              "        [ 0.0061, -0.0708,  0.0649,  ...,  0.0484, -0.0608, -0.0127],\n",
              "        [-0.0458,  0.0252,  0.0254,  ...,  0.0465, -0.0679, -0.0312],\n",
              "        [ 0.0117,  0.0260,  0.0681,  ...,  0.0178,  0.0545,  0.0615]],\n",
              "       requires_grad=True)"
            ]
          },
          "metadata": {
            "tags": []
          },
          "execution_count": 176
        }
      ]
    },
    {
      "cell_type": "code",
      "metadata": {
        "colab_type": "code",
        "id": "4rFBWul9go3n",
        "colab": {}
      },
      "source": [
        "import torch.optim as optim\n",
        "\n",
        "criterion = nn.CrossEntropyLoss()\n",
        "optimizer = optim.SGD(net.parameters(), lr=0.001, momentum=0.9)"
      ],
      "execution_count": 0,
      "outputs": []
    },
    {
      "cell_type": "code",
      "metadata": {
        "colab_type": "code",
        "outputId": "4ac4047c-57b5-45d7-d609-b829cf02a8e2",
        "id": "-Zax84M5go3r",
        "colab": {
          "base_uri": "https://localhost:8080/",
          "height": 289
        }
      },
      "source": [
        "for epoch in range(5):  # loop over the dataset multiple times\n",
        "\n",
        "    running_loss = 0.0\n",
        "    for i, data in enumerate(trainloader, 0):\n",
        "        # get the inputs\n",
        "        inputs, labels = data\n",
        "        # zero the parameter gradients\n",
        "        optimizer.zero_grad()\n",
        "\n",
        "        # forward + backward + optimize\n",
        "        outputs = net(inputs)\n",
        "        loss = criterion(outputs, labels)\n",
        "        loss.backward()\n",
        "        optimizer.step()\n",
        "\n",
        "        # print statistics\n",
        "        running_loss += loss.item()\n",
        "        if i % 500 == 499:    # print every 500 mini-batches\n",
        "            print('[%d, %5d] loss: %.3f' %\n",
        "                  (epoch + 1, i + 1, running_loss / 500))\n",
        "            running_loss = 0.0\n",
        "\n",
        "print('Finished Training')"
      ],
      "execution_count": 0,
      "outputs": [
        {
          "output_type": "stream",
          "text": [
            "[1,   500] loss: 2.133\n",
            "[1,  1000] loss: 1.920\n",
            "[1,  1500] loss: 1.837\n",
            "[2,   500] loss: 1.762\n",
            "[2,  1000] loss: 1.689\n",
            "[2,  1500] loss: 1.682\n",
            "[3,   500] loss: 1.637\n",
            "[3,  1000] loss: 1.627\n",
            "[3,  1500] loss: 1.603\n",
            "[4,   500] loss: 1.587\n",
            "[4,  1000] loss: 1.569\n",
            "[4,  1500] loss: 1.575\n",
            "[5,   500] loss: 1.545\n",
            "[5,  1000] loss: 1.547\n",
            "[5,  1500] loss: 1.533\n",
            "Finished Training\n"
          ],
          "name": "stdout"
        }
      ]
    },
    {
      "cell_type": "code",
      "metadata": {
        "colab_type": "code",
        "outputId": "b2d62e28-c147-4a30-a911-24512e2885f5",
        "id": "92Juag6Bgo32",
        "colab": {
          "base_uri": "https://localhost:8080/",
          "height": 34
        }
      },
      "source": [
        "correct = 0\n",
        "total = 0\n",
        "with torch.no_grad():\n",
        "    for data in testloader:\n",
        "        images, labels = data\n",
        "        outputs = net(images)\n",
        "        _, predicted = torch.max(outputs.data, 1)\n",
        "        total += labels.size(0)\n",
        "        correct += (predicted == labels).sum().item()\n",
        "\n",
        "print('Accuracy of the network on the 10000 test images: %d %%' % (\n",
        "    100 * correct / total))"
      ],
      "execution_count": 0,
      "outputs": [
        {
          "output_type": "stream",
          "text": [
            "Accuracy of the network on the 10000 test images: 46 %\n"
          ],
          "name": "stdout"
        }
      ]
    },
    {
      "cell_type": "markdown",
      "metadata": {
        "id": "dD800jMmnvEs",
        "colab_type": "text"
      },
      "source": [
        "همانطور که انتظار میرفت، دقت داده های ما از ۵۲ به 46 کاهش پیدا کرد. این کاهش طبیعی است زیرا یک لایه از لایه های شبکه عصبی ما کم شده است و دقت خروجی ما طبیعتا کاهش پیدا میکند.\n"
      ]
    },
    {
      "cell_type": "markdown",
      "metadata": {
        "id": "LvLW3RJQvX7u",
        "colab_type": "text"
      },
      "source": [
        "در دو حالت مختلفی که سوال دو را حل کردیم، دقت ما ۴۹ و ۴۶ درصد بود. نتیجه میگیریم که تعداد لایه هایی که از کانولوشن خروجی میگیریم اگر از ۶ به ۸ تغییر پیدا کند، دقت از ۴۶ به ۴۹ ارتقا پیدا میکند."
      ]
    },
    {
      "cell_type": "markdown",
      "metadata": {
        "id": "e4B_bPNvoS2b",
        "colab_type": "text"
      },
      "source": [
        "# سوال سوم"
      ]
    },
    {
      "cell_type": "code",
      "metadata": {
        "id": "9j0rTeWcpzxQ",
        "colab_type": "code",
        "outputId": "d43b8132-97b3-4221-fab4-e32f4d5c6ae9",
        "colab": {
          "base_uri": "https://localhost:8080/",
          "height": 51
        }
      },
      "source": [
        "transform = transforms.Compose(\n",
        "    [transforms.ToTensor(),\n",
        "     transforms.Normalize((0.5, 0.5, 0.5), (0.5, 0.5, 0.5))])\n",
        "\n",
        "trainset = torchvision.datasets.CIFAR10(root='./data', train=True,\n",
        "                                        download=True, transform=transform)\n",
        "trainloader = torch.utils.data.DataLoader(trainset, batch_size=32,\n",
        "                                          shuffle=True, num_workers=2)\n",
        "\n",
        "testset = torchvision.datasets.CIFAR10(root='./data', train=False,\n",
        "                                       download=True, transform=transform)\n",
        "testloader = torch.utils.data.DataLoader(testset, batch_size=32,\n",
        "                                         shuffle=False, num_workers=2)\n",
        "\n",
        "classes = ('plane', 'car', 'bird', 'cat',\n",
        "           'deer', 'dog', 'frog', 'horse', 'ship', 'truck')"
      ],
      "execution_count": 0,
      "outputs": [
        {
          "output_type": "stream",
          "text": [
            "Files already downloaded and verified\n",
            "Files already downloaded and verified\n"
          ],
          "name": "stdout"
        }
      ]
    },
    {
      "cell_type": "markdown",
      "metadata": {
        "id": "h6MyPSCOqUrm",
        "colab_type": "text"
      },
      "source": [
        "در بالا در خط سوم داده ها را نرمالایز میکنیم"
      ]
    },
    {
      "cell_type": "code",
      "metadata": {
        "id": "O-aCf2nVp5EX",
        "colab_type": "code",
        "colab": {}
      },
      "source": [
        "import torch.nn as nn\n",
        "import torch.nn.functional as F\n",
        "\n",
        "\n",
        "class Net(nn.Module):\n",
        "    def __init__(self):\n",
        "        super(Net, self).__init__()\n",
        "        self.conv1 = nn.Conv2d(3, 6, 5)\n",
        "        self.pool = nn.MaxPool2d(2, 2)\n",
        "        self.conv2 = nn.Conv2d(6, 16, 5)\n",
        "        self.fc1 = nn.Linear(16 * 5 * 5, 10)\n",
        "\n",
        "\n",
        "    def forward(self, x):\n",
        "        x = self.pool(F.relu(self.conv1(x)))\n",
        "        x = self.pool(F.relu(self.conv2(x)))\n",
        "        x = x.view(-1, 16 * 5 * 5)\n",
        "        x = self.fc1(x)\n",
        "        return x\n",
        "\n",
        "\n",
        "net = Net()"
      ],
      "execution_count": 0,
      "outputs": []
    },
    {
      "cell_type": "code",
      "metadata": {
        "id": "DnaXgU_wqRR3",
        "colab_type": "code",
        "outputId": "07ecfbf2-95a9-48c5-d6a2-a696292c92ed",
        "colab": {
          "base_uri": "https://localhost:8080/",
          "height": 170
        }
      },
      "source": [
        "torch.nn.init.xavier_uniform_(net.conv1.weight)\n",
        "torch.nn.init.xavier_uniform_(net.conv2.weight)\n",
        "torch.nn.init.xavier_uniform_(net.fc1.weight)"
      ],
      "execution_count": 0,
      "outputs": [
        {
          "output_type": "execute_result",
          "data": {
            "text/plain": [
              "Parameter containing:\n",
              "tensor([[-0.0167,  0.0850,  0.0664,  ...,  0.1204, -0.0475, -0.1047],\n",
              "        [-0.0271,  0.1160, -0.1066,  ...,  0.0061,  0.0729, -0.0980],\n",
              "        [ 0.0537, -0.0613,  0.0829,  ..., -0.0144,  0.0497,  0.0131],\n",
              "        ...,\n",
              "        [-0.1171,  0.0554, -0.0911,  ..., -0.0267,  0.0892, -0.0805],\n",
              "        [-0.0376, -0.0833,  0.0991,  ...,  0.0561, -0.0865,  0.0752],\n",
              "        [-0.0505,  0.1084,  0.0548,  ..., -0.0945, -0.0487,  0.0605]],\n",
              "       requires_grad=True)"
            ]
          },
          "metadata": {
            "tags": []
          },
          "execution_count": 268
        }
      ]
    },
    {
      "cell_type": "code",
      "metadata": {
        "id": "bOUaK6dwqnpB",
        "colab_type": "code",
        "colab": {}
      },
      "source": [
        "import torch.optim as optim\n",
        "\n",
        "criterion = nn.CrossEntropyLoss()\n",
        "optimizer = optim.SGD(net.parameters(), lr=0.001, momentum=0.9)"
      ],
      "execution_count": 0,
      "outputs": []
    },
    {
      "cell_type": "code",
      "metadata": {
        "id": "66tCY9kCqrL3",
        "colab_type": "code",
        "outputId": "84048f90-7d45-4b50-adb4-803858252e2e",
        "colab": {
          "base_uri": "https://localhost:8080/",
          "height": 289
        }
      },
      "source": [
        "for epoch in range(5):  # loop over the dataset multiple times\n",
        "\n",
        "    running_loss = 0.0\n",
        "    for i, data in enumerate(trainloader, 0):\n",
        "        # get the inputs\n",
        "        inputs, labels = data\n",
        "        # zero the parameter gradients\n",
        "        optimizer.zero_grad()\n",
        "\n",
        "        # forward + backward + optimize\n",
        "        outputs = net(inputs)\n",
        "        loss = criterion(outputs, labels)\n",
        "        loss.backward()\n",
        "        optimizer.step()\n",
        "\n",
        "        # print statistics\n",
        "        running_loss += loss.item()\n",
        "        if i % 500 == 499:    # print every 500 mini-batches\n",
        "            print('[%d, %5d] loss: %.3f' %\n",
        "                  (epoch + 1, i + 1, running_loss / 500))\n",
        "            running_loss = 0.0\n",
        "\n",
        "print('Finished Training')"
      ],
      "execution_count": 0,
      "outputs": [
        {
          "output_type": "stream",
          "text": [
            "[1,   500] loss: 2.116\n",
            "[1,  1000] loss: 1.795\n",
            "[1,  1500] loss: 1.669\n",
            "[2,   500] loss: 1.591\n",
            "[2,  1000] loss: 1.531\n",
            "[2,  1500] loss: 1.503\n",
            "[3,   500] loss: 1.450\n",
            "[3,  1000] loss: 1.443\n",
            "[3,  1500] loss: 1.403\n",
            "[4,   500] loss: 1.372\n",
            "[4,  1000] loss: 1.358\n",
            "[4,  1500] loss: 1.350\n",
            "[5,   500] loss: 1.318\n",
            "[5,  1000] loss: 1.304\n",
            "[5,  1500] loss: 1.295\n",
            "Finished Training\n"
          ],
          "name": "stdout"
        }
      ]
    },
    {
      "cell_type": "code",
      "metadata": {
        "id": "RdKsPIlfqsFw",
        "colab_type": "code",
        "outputId": "f997dc45-85dd-4330-b575-aa0ce0dabc5e",
        "colab": {
          "base_uri": "https://localhost:8080/",
          "height": 34
        }
      },
      "source": [
        "correct = 0\n",
        "total = 0\n",
        "with torch.no_grad():\n",
        "    for data in testloader:\n",
        "        images, labels = data\n",
        "        outputs = net(images)\n",
        "        _, predicted = torch.max(outputs.data, 1)\n",
        "        total += labels.size(0)\n",
        "        correct += (predicted == labels).sum().item()\n",
        "\n",
        "print('Accuracy of the network on the 10000 test images: %d %%' % (\n",
        "    100 * correct / total))"
      ],
      "execution_count": 0,
      "outputs": [
        {
          "output_type": "stream",
          "text": [
            "Accuracy of the network on the 10000 test images: 54 %\n"
          ],
          "name": "stdout"
        }
      ]
    },
    {
      "cell_type": "markdown",
      "metadata": {
        "id": "5eu6qvKFsWhS",
        "colab_type": "text"
      },
      "source": [
        "با مقایسه ی زمان تمرین داده های نرمالایز نشده (که برابر است با ۱۰۷ ثانیه) و داده های نرمالایز شده (که برابر است با 116 ثانیه) متوجه میشویم که زمان ها  متفاوت اند و تمرین داده های نرمال شده بیشتر طول میکشد.\n",
        "دقت ها را که مقایسه میکنیم میبینیم که دقت تخمین در داده های نرمال 54 درصد و در داده های غیر نرمال ۵۲ درصد است که خب دقیق تر تخمین زده است.\n",
        "\n",
        " بدیهی است که پروسه ی نرمالایز  کردن، هیچ ارتباطی به برچسب ها نداشته باشد. زیرا ما داریم داده ها و در واقع تصاویر را به گونه ای نرمال میکنیم و همه ی آنها بعد از نرمال شدن همان برچسب قبلی را بدون هیچ تغییری خواهند داشت و معنا ندارد که در نرمال کردن تصاویر، برچسب ها تغییری کنند."
      ]
    },
    {
      "cell_type": "markdown",
      "metadata": {
        "id": "BE5u6zPEwsTw",
        "colab_type": "text"
      },
      "source": [
        "# سوال چهارم"
      ]
    },
    {
      "cell_type": "markdown",
      "metadata": {
        "id": "2HYRsh8lxI1E",
        "colab_type": "text"
      },
      "source": [
        "## high learning rate = 0.01"
      ]
    },
    {
      "cell_type": "code",
      "metadata": {
        "id": "swQBs8X7wvUB",
        "colab_type": "code",
        "colab": {}
      },
      "source": [
        "import torch.optim as optim\n",
        "\n",
        "criterion = nn.CrossEntropyLoss()\n",
        "optimizer = optim.SGD(net.parameters(), lr=0.01, momentum=0.9)"
      ],
      "execution_count": 0,
      "outputs": []
    },
    {
      "cell_type": "code",
      "metadata": {
        "id": "GkDn1vGm10cb",
        "colab_type": "code",
        "outputId": "93640375-fa7b-4d90-ed78-3cba91e63459",
        "colab": {
          "base_uri": "https://localhost:8080/",
          "height": 34
        }
      },
      "source": [
        "list_of_loses = []\n",
        "for epoch in range(5):  # loop over the dataset multiple times\n",
        "\n",
        "    running_loss = 0.0\n",
        "    for i, data in enumerate(trainloader, 0):\n",
        "        # get the inputs\n",
        "        inputs, labels = data\n",
        "        # zero the parameter gradients\n",
        "        optimizer.zero_grad()\n",
        "\n",
        "        # forward + backward + optimize\n",
        "        outputs = net(inputs)\n",
        "        loss = criterion(outputs, labels)\n",
        "        loss.backward()\n",
        "        optimizer.step()\n",
        "\n",
        "        list_of_loses.append(loss.item())\n",
        "        # print statistics\n",
        "        running_loss += loss.item()\n",
        "        if i % 2000 == 1999:    # print every 500 mini-batches\n",
        "            print('[%d, %5d] loss: %.3f' %\n",
        "                  (epoch + 1, i + 1, running_loss / 2000))\n",
        "            running_loss = 0.0\n",
        "\n",
        "print('Finished Training')"
      ],
      "execution_count": 0,
      "outputs": [
        {
          "output_type": "stream",
          "text": [
            "Finished Training\n"
          ],
          "name": "stdout"
        }
      ]
    },
    {
      "cell_type": "code",
      "metadata": {
        "id": "tw3jtDW3xQqn",
        "colab_type": "code",
        "outputId": "14f1710d-6800-4569-ec48-6987f6c8cbd1",
        "colab": {
          "base_uri": "https://localhost:8080/",
          "height": 34
        }
      },
      "source": [
        "correct = 0\n",
        "total = 0\n",
        "with torch.no_grad():\n",
        "    for data in testloader:\n",
        "        images, labels = data\n",
        "        outputs = net(images)\n",
        "        _, predicted = torch.max(outputs.data, 1)\n",
        "        total += labels.size(0)\n",
        "        correct += (predicted == labels).sum().item()\n",
        "\n",
        "print('Accuracy of the network on the 10000 test images: %d %%' % (\n",
        "    100 * correct / total))"
      ],
      "execution_count": 0,
      "outputs": [
        {
          "output_type": "stream",
          "text": [
            "Accuracy of the network on the 10000 test images: 56 %\n"
          ],
          "name": "stdout"
        }
      ]
    },
    {
      "cell_type": "code",
      "metadata": {
        "id": "DIYZVlqI79r4",
        "colab_type": "code",
        "colab": {}
      },
      "source": [
        "import matplotlib.pyplot as plt\n",
        "import numpy as np"
      ],
      "execution_count": 0,
      "outputs": []
    },
    {
      "cell_type": "code",
      "metadata": {
        "id": "8dUQkbk10l85",
        "colab_type": "code",
        "outputId": "c2ea6bf7-5785-480a-d09b-4b715c9dc9a4",
        "colab": {
          "base_uri": "https://localhost:8080/",
          "height": 269
        }
      },
      "source": [
        "x = np.array(range(len(list_of_loses)))\n",
        "plt.plot(x, list_of_loses)\n",
        "plt.grid()\n",
        "plt.show()"
      ],
      "execution_count": 0,
      "outputs": [
        {
          "output_type": "display_data",
          "data": {
            "image/png": "[encoded data removed]",
            "text/plain": [
              "<Figure size 432x288 with 1 Axes>"
            ]
          },
          "metadata": {
            "tags": []
          }
        }
      ]
    },
    {
      "cell_type": "markdown",
      "metadata": {
        "id": "_8MAkAqL0dGE",
        "colab_type": "text"
      },
      "source": [
        "## normal learning rate = 0.001"
      ]
    },
    {
      "cell_type": "code",
      "metadata": {
        "id": "fPXWgyyD14Rb",
        "colab_type": "code",
        "colab": {}
      },
      "source": [
        "import torch.optim as optim\n",
        "\n",
        "criterion = nn.CrossEntropyLoss()\n",
        "optimizer = optim.SGD(net.parameters(), lr=0.001, momentum=0.9)"
      ],
      "execution_count": 0,
      "outputs": []
    },
    {
      "cell_type": "code",
      "metadata": {
        "id": "s8tjz4xr0U4A",
        "colab_type": "code",
        "outputId": "6fa1793a-892b-467f-c54f-87d9a425a69d",
        "colab": {
          "base_uri": "https://localhost:8080/",
          "height": 289
        }
      },
      "source": [
        "list_of_loses = []\n",
        "for epoch in range(5):  # loop over the dataset multiple times\n",
        "\n",
        "    running_loss = 0.0\n",
        "    for i, data in enumerate(trainloader, 0):\n",
        "        # get the inputs\n",
        "        inputs, labels = data\n",
        "        # zero the parameter gradients\n",
        "        optimizer.zero_grad()\n",
        "\n",
        "        # forward + backward + optimize\n",
        "        outputs = net(inputs)\n",
        "        loss = criterion(outputs, labels)\n",
        "        loss.backward()\n",
        "        optimizer.step()\n",
        "\n",
        "        list_of_loses.append(loss.item())\n",
        "        # print statistics\n",
        "        running_loss += loss.item()\n",
        "        if i % 500 == 499:    # print every 500 mini-batches\n",
        "            print('[%d, %5d] loss: %.3f' %\n",
        "                  (epoch + 1, i + 1, running_loss / 500))\n",
        "            running_loss = 0.0\n",
        "\n",
        "print('Finished Training')"
      ],
      "execution_count": 0,
      "outputs": [
        {
          "output_type": "stream",
          "text": [
            "[1,   500] loss: 1.031\n",
            "[1,  1000] loss: 0.999\n",
            "[1,  1500] loss: 1.003\n",
            "[2,   500] loss: 0.973\n",
            "[2,  1000] loss: 0.973\n",
            "[2,  1500] loss: 0.978\n",
            "[3,   500] loss: 0.952\n",
            "[3,  1000] loss: 0.961\n",
            "[3,  1500] loss: 0.968\n",
            "[4,   500] loss: 0.947\n",
            "[4,  1000] loss: 0.961\n",
            "[4,  1500] loss: 0.948\n",
            "[5,   500] loss: 0.943\n",
            "[5,  1000] loss: 0.947\n",
            "[5,  1500] loss: 0.947\n",
            "Finished Training\n"
          ],
          "name": "stdout"
        }
      ]
    },
    {
      "cell_type": "code",
      "metadata": {
        "id": "JJKT5vnt1Vd_",
        "colab_type": "code",
        "outputId": "133b138e-eb78-41a5-da6d-24caf210c3f8",
        "colab": {
          "base_uri": "https://localhost:8080/",
          "height": 34
        }
      },
      "source": [
        "correct = 0\n",
        "total = 0\n",
        "with torch.no_grad():\n",
        "    for data in testloader:\n",
        "        images, labels = data\n",
        "        outputs = net(images)\n",
        "        _, predicted = torch.max(outputs.data, 1)\n",
        "        total += labels.size(0)\n",
        "        correct += (predicted == labels).sum().item()\n",
        "\n",
        "print('Accuracy of the network on the 10000 test images: %d %%' % (\n",
        "    100 * correct / total))"
      ],
      "execution_count": 0,
      "outputs": [
        {
          "output_type": "stream",
          "text": [
            "Accuracy of the network on the 10000 test images: 64 %\n"
          ],
          "name": "stdout"
        }
      ]
    },
    {
      "cell_type": "code",
      "metadata": {
        "id": "-yEGIb0n1WLl",
        "colab_type": "code",
        "outputId": "26001277-d755-4b76-dec0-949043b7d584",
        "colab": {
          "base_uri": "https://localhost:8080/",
          "height": 269
        }
      },
      "source": [
        "x = np.array(range(len(list_of_loses)))\n",
        "plt.plot(x, list_of_loses)\n",
        "plt.grid()\n",
        "plt.show()"
      ],
      "execution_count": 0,
      "outputs": [
        {
          "output_type": "display_data",
          "data": {
            "image/png": "[encoded data removed]",
            "text/plain": [
              "<Figure size 432x288 with 1 Axes>"
            ]
          },
          "metadata": {
            "tags": []
          }
        }
      ]
    },
    {
      "cell_type": "markdown",
      "metadata": {
        "colab_type": "text",
        "id": "-QWY_MX263vr"
      },
      "source": [
        "## low learning rate = 0.00001"
      ]
    },
    {
      "cell_type": "code",
      "metadata": {
        "colab_type": "code",
        "id": "z40mggG063vv",
        "colab": {}
      },
      "source": [
        "import torch.optim as optim\n",
        "\n",
        "criterion = nn.CrossEntropyLoss()\n",
        "optimizer = optim.SGD(net.parameters(), lr=0.00001, momentum=0.9)"
      ],
      "execution_count": 0,
      "outputs": []
    },
    {
      "cell_type": "code",
      "metadata": {
        "colab_type": "code",
        "id": "89A9gh4E63vz",
        "outputId": "f0062343-56b5-42db-c6ae-3a96e96eff33",
        "colab": {
          "base_uri": "https://localhost:8080/",
          "height": 289
        }
      },
      "source": [
        "list_of_loses = []\n",
        "for epoch in range(5):  # loop over the dataset multiple times\n",
        "\n",
        "    running_loss = 0.0\n",
        "    for i, data in enumerate(trainloader, 0):\n",
        "        # get the inputs\n",
        "        inputs, labels = data\n",
        "        # zero the parameter gradients\n",
        "        optimizer.zero_grad()\n",
        "\n",
        "        # forward + backward + optimize\n",
        "        outputs = net(inputs)\n",
        "        loss = criterion(outputs, labels)\n",
        "        loss.backward()\n",
        "        optimizer.step()\n",
        "\n",
        "        list_of_loses.append(loss.item())\n",
        "        # print statistics\n",
        "        running_loss += loss.item()\n",
        "        if i % 500 == 499:    # print every 500 mini-batches\n",
        "            print('[%d, %5d] loss: %.3f' %\n",
        "                  (epoch + 1, i + 1, running_loss / 500))\n",
        "            running_loss = 0.0\n",
        "\n",
        "print('Finished Training')"
      ],
      "execution_count": 0,
      "outputs": [
        {
          "output_type": "stream",
          "text": [
            "[1,   500] loss: 0.926\n",
            "[1,  1000] loss: 0.914\n",
            "[1,  1500] loss: 0.910\n",
            "[2,   500] loss: 0.910\n",
            "[2,  1000] loss: 0.920\n",
            "[2,  1500] loss: 0.914\n",
            "[3,   500] loss: 0.915\n",
            "[3,  1000] loss: 0.912\n",
            "[3,  1500] loss: 0.916\n",
            "[4,   500] loss: 0.915\n",
            "[4,  1000] loss: 0.903\n",
            "[4,  1500] loss: 0.924\n",
            "[5,   500] loss: 0.915\n",
            "[5,  1000] loss: 0.911\n",
            "[5,  1500] loss: 0.907\n",
            "Finished Training\n"
          ],
          "name": "stdout"
        }
      ]
    },
    {
      "cell_type": "code",
      "metadata": {
        "colab_type": "code",
        "id": "QuDV9F4T63v2",
        "outputId": "f8a04279-1203-43c8-9259-3137892879c5",
        "colab": {
          "base_uri": "https://localhost:8080/",
          "height": 34
        }
      },
      "source": [
        "correct = 0\n",
        "total = 0\n",
        "with torch.no_grad():\n",
        "    for data in testloader:\n",
        "        images, labels = data\n",
        "        outputs = net(images)\n",
        "        _, predicted = torch.max(outputs.data, 1)\n",
        "        total += labels.size(0)\n",
        "        correct += (predicted == labels).sum().item()\n",
        "\n",
        "print('Accuracy of the network on the 10000 test images: %d %%' % (\n",
        "    100 * correct / total))"
      ],
      "execution_count": 0,
      "outputs": [
        {
          "output_type": "stream",
          "text": [
            "Accuracy of the network on the 10000 test images: 64 %\n"
          ],
          "name": "stdout"
        }
      ]
    },
    {
      "cell_type": "code",
      "metadata": {
        "colab_type": "code",
        "id": "gaG-4eNb63v5",
        "outputId": "20f315e9-e78c-4957-ab49-3071c8abacef",
        "colab": {
          "base_uri": "https://localhost:8080/",
          "height": 269
        }
      },
      "source": [
        "x = np.array(range(len(list_of_loses)))\n",
        "plt.plot(x, list_of_loses)\n",
        "plt.grid()\n",
        "plt.show()"
      ],
      "execution_count": 0,
      "outputs": [
        {
          "output_type": "display_data",
          "data": {
            "image/png": "[encoded data removed]",
            "text/plain": [
              "<Figure size 432x288 with 1 Axes>"
            ]
          },
          "metadata": {
            "tags": []
          }
        }
      ]
    },
    {
      "cell_type": "markdown",
      "metadata": {
        "id": "l8doam49J8nh",
        "colab_type": "text"
      },
      "source": [
        "از مهم ترین نتایجی که میگیریم این است که مقدار زیاد لرنینگ ریت به هیچ وجه به نفع ما نیست و اگر آنرا زیاد کنیم به شدت ضرر میکنیم. اما با کم کردن آن، حال به مقدار یک صدم آن، تفاوت چندانی در دقت مشاهده نمیشود. \n",
        "\n",
        "نتیجه ی دیگری که میگیریم این است که با افزایش لرنینگ ریت، کم شدن خطا در طول زمان (افزایش داده تمرینی) بیشتر مشاهده میشود. یعنی برای کم شدن خطا در طی زیاد شدن داده های تمرینی، زیاد بودن لرنینگ ریت مناسب است "
      ]
    },
    {
      "cell_type": "markdown",
      "metadata": {
        "id": "1-7ojLfO8fkj",
        "colab_type": "text"
      },
      "source": [
        "# سوال پنجم"
      ]
    },
    {
      "cell_type": "markdown",
      "metadata": {
        "id": "7xgSCtex8j-G",
        "colab_type": "text"
      },
      "source": [
        "## batch size = 64"
      ]
    },
    {
      "cell_type": "code",
      "metadata": {
        "colab_type": "code",
        "outputId": "98f6aca7-ff77-4b31-83ad-9166a1110999",
        "id": "7eCLqKgX9VVq",
        "colab": {
          "base_uri": "https://localhost:8080/",
          "height": 51
        }
      },
      "source": [
        "transform = transforms.Compose(\n",
        "    [transforms.ToTensor(),\n",
        "     transforms.Normalize((0.5, 0.5, 0.5), (0.5, 0.5, 0.5))])\n",
        "\n",
        "trainset = torchvision.datasets.CIFAR10(root='./data', train=True,\n",
        "                                        download=True, transform=transform)\n",
        "trainloader = torch.utils.data.DataLoader(trainset, batch_size=64,\n",
        "                                          shuffle=True, num_workers=2)\n",
        "\n",
        "testset = torchvision.datasets.CIFAR10(root='./data', train=False,\n",
        "                                       download=True, transform=transform)\n",
        "testloader = torch.utils.data.DataLoader(testset, batch_size=64,\n",
        "                                         shuffle=False, num_workers=2)\n",
        "\n",
        "classes = ('plane', 'car', 'bird', 'cat',\n",
        "           'deer', 'dog', 'frog', 'horse', 'ship', 'truck')"
      ],
      "execution_count": 0,
      "outputs": [
        {
          "output_type": "stream",
          "text": [
            "Files already downloaded and verified\n",
            "Files already downloaded and verified\n"
          ],
          "name": "stdout"
        }
      ]
    },
    {
      "cell_type": "code",
      "metadata": {
        "colab_type": "code",
        "id": "bn7kqc2K9VV0",
        "colab": {}
      },
      "source": [
        "import torch.nn as nn\n",
        "import torch.nn.functional as F\n",
        "\n",
        "\n",
        "class Net(nn.Module):\n",
        "    def __init__(self):\n",
        "        super(Net, self).__init__()\n",
        "        self.conv1 = nn.Conv2d(3, 6, 5)\n",
        "        self.pool = nn.MaxPool2d(2, 2)\n",
        "        self.conv2 = nn.Conv2d(6, 16, 5)\n",
        "        self.fc1 = nn.Linear(16 * 5 * 5, 10)\n",
        "\n",
        "\n",
        "    def forward(self, x):\n",
        "        x = self.pool(F.relu(self.conv1(x)))\n",
        "        x = self.pool(F.relu(self.conv2(x)))\n",
        "        x = x.view(-1, 16 * 5 * 5)\n",
        "        x = self.fc1(x)\n",
        "        return x\n",
        "\n",
        "\n",
        "net = Net()"
      ],
      "execution_count": 0,
      "outputs": []
    },
    {
      "cell_type": "code",
      "metadata": {
        "colab_type": "code",
        "outputId": "40d3930f-98ae-4ad4-86d0-294e2672aab1",
        "id": "VSZR-2T99VV9",
        "colab": {
          "base_uri": "https://localhost:8080/",
          "height": 170
        }
      },
      "source": [
        "torch.nn.init.xavier_uniform_(net.conv1.weight)\n",
        "torch.nn.init.xavier_uniform_(net.conv2.weight)\n",
        "torch.nn.init.xavier_uniform_(net.fc1.weight)"
      ],
      "execution_count": 0,
      "outputs": [
        {
          "output_type": "execute_result",
          "data": {
            "text/plain": [
              "Parameter containing:\n",
              "tensor([[-0.1060, -0.0719, -0.0082,  ..., -0.0568,  0.1013, -0.1180],\n",
              "        [ 0.1178,  0.0429,  0.1091,  ..., -0.0614,  0.0645, -0.0240],\n",
              "        [-0.0761,  0.0241,  0.0169,  ..., -0.0195,  0.0976, -0.0032],\n",
              "        ...,\n",
              "        [ 0.0225, -0.0467, -0.0065,  ..., -0.0659, -0.0819, -0.1079],\n",
              "        [ 0.0681,  0.0150,  0.0377,  ..., -0.0289,  0.0047,  0.0638],\n",
              "        [ 0.0801,  0.0348,  0.0057,  ...,  0.0548,  0.0634, -0.0787]],\n",
              "       requires_grad=True)"
            ]
          },
          "metadata": {
            "tags": []
          },
          "execution_count": 250
        }
      ]
    },
    {
      "cell_type": "code",
      "metadata": {
        "colab_type": "code",
        "id": "7kU4lE8X9VWA",
        "colab": {}
      },
      "source": [
        "import torch.optim as optim\n",
        "\n",
        "criterion = nn.CrossEntropyLoss()\n",
        "optimizer = optim.SGD(net.parameters(), lr=0.001, momentum=0.9)"
      ],
      "execution_count": 0,
      "outputs": []
    },
    {
      "cell_type": "code",
      "metadata": {
        "colab_type": "code",
        "outputId": "4d1c1046-8f75-456d-984d-5b059bbc7b0f",
        "id": "mvB-ByMM9VWD",
        "colab": {
          "base_uri": "https://localhost:8080/",
          "height": 119
        }
      },
      "source": [
        "for epoch in range(5):  # loop over the dataset multiple times\n",
        "\n",
        "    running_loss = 0.0\n",
        "    for i, data in enumerate(trainloader, 0):\n",
        "        # get the inputs\n",
        "        inputs, labels = data\n",
        "        # zero the parameter gradients\n",
        "        optimizer.zero_grad()\n",
        "\n",
        "        # forward + backward + optimize\n",
        "        outputs = net(inputs)\n",
        "        loss = criterion(outputs, labels)\n",
        "        loss.backward()\n",
        "        optimizer.step()\n",
        "\n",
        "        # print statistics\n",
        "        running_loss += loss.item()\n",
        "        if i % 500 == 499:    # print every 500 mini-batches\n",
        "            print('[%d, %5d] loss: %.3f' %\n",
        "                  (epoch + 1, i + 1, running_loss / 500))\n",
        "            running_loss = 0.0\n",
        "\n",
        "print('Finished Training')"
      ],
      "execution_count": 0,
      "outputs": [
        {
          "output_type": "stream",
          "text": [
            "[1,   500] loss: 2.172\n",
            "[2,   500] loss: 1.777\n",
            "[3,   500] loss: 1.604\n",
            "[4,   500] loss: 1.513\n",
            "[5,   500] loss: 1.455\n",
            "Finished Training\n"
          ],
          "name": "stdout"
        }
      ]
    },
    {
      "cell_type": "code",
      "metadata": {
        "colab_type": "code",
        "outputId": "806475d0-c889-4854-a3b7-1ef722936914",
        "id": "1AGMFJTs9VWG",
        "colab": {
          "base_uri": "https://localhost:8080/",
          "height": 34
        }
      },
      "source": [
        "correct = 0\n",
        "total = 0\n",
        "with torch.no_grad():\n",
        "    for data in testloader:\n",
        "        images, labels = data\n",
        "        outputs = net(images)\n",
        "        _, predicted = torch.max(outputs.data, 1)\n",
        "        total += labels.size(0)\n",
        "        correct += (predicted == labels).sum().item()\n",
        "\n",
        "print('Accuracy of the network on the 10000 test images: %d %%' % (\n",
        "    100 * correct / total))"
      ],
      "execution_count": 0,
      "outputs": [
        {
          "output_type": "stream",
          "text": [
            "Accuracy of the network on the 10000 test images: 48 %\n"
          ],
          "name": "stdout"
        }
      ]
    },
    {
      "cell_type": "markdown",
      "metadata": {
        "colab_type": "text",
        "id": "o72fDKFh-_Kh"
      },
      "source": [
        "## batch size = 256"
      ]
    },
    {
      "cell_type": "code",
      "metadata": {
        "colab_type": "code",
        "outputId": "28af9a27-605b-45b2-b1d0-46ba138651cd",
        "id": "HoVOXp6R-_Kl",
        "colab": {
          "base_uri": "https://localhost:8080/",
          "height": 51
        }
      },
      "source": [
        "transform = transforms.Compose(\n",
        "    [transforms.ToTensor(),\n",
        "     transforms.Normalize((0.5, 0.5, 0.5), (0.5, 0.5, 0.5))])\n",
        "\n",
        "trainset = torchvision.datasets.CIFAR10(root='./data', train=True,\n",
        "                                        download=True, transform=transform)\n",
        "trainloader = torch.utils.data.DataLoader(trainset, batch_size=256,\n",
        "                                          shuffle=True, num_workers=2)\n",
        "\n",
        "testset = torchvision.datasets.CIFAR10(root='./data', train=False,\n",
        "                                       download=True, transform=transform)\n",
        "testloader = torch.utils.data.DataLoader(testset, batch_size=256,\n",
        "                                         shuffle=False, num_workers=2)\n",
        "\n",
        "classes = ('plane', 'car', 'bird', 'cat',\n",
        "           'deer', 'dog', 'frog', 'horse', 'ship', 'truck')"
      ],
      "execution_count": 0,
      "outputs": [
        {
          "output_type": "stream",
          "text": [
            "Files already downloaded and verified\n",
            "Files already downloaded and verified\n"
          ],
          "name": "stdout"
        }
      ]
    },
    {
      "cell_type": "code",
      "metadata": {
        "colab_type": "code",
        "id": "NglEW5aK-_Ko",
        "colab": {}
      },
      "source": [
        "import torch.nn as nn\n",
        "import torch.nn.functional as F\n",
        "\n",
        "\n",
        "class Net(nn.Module):\n",
        "    def __init__(self):\n",
        "        super(Net, self).__init__()\n",
        "        self.conv1 = nn.Conv2d(3, 6, 5)\n",
        "        self.pool = nn.MaxPool2d(2, 2)\n",
        "        self.conv2 = nn.Conv2d(6, 16, 5)\n",
        "        self.fc1 = nn.Linear(16 * 5 * 5, 10)\n",
        "\n",
        "\n",
        "    def forward(self, x):\n",
        "        x = self.pool(F.relu(self.conv1(x)))\n",
        "        x = self.pool(F.relu(self.conv2(x)))\n",
        "        x = x.view(-1, 16 * 5 * 5)\n",
        "        x = self.fc1(x)\n",
        "        return x\n",
        "\n",
        "\n",
        "net = Net()"
      ],
      "execution_count": 0,
      "outputs": []
    },
    {
      "cell_type": "code",
      "metadata": {
        "colab_type": "code",
        "outputId": "8a6c5fc6-fe2d-4788-989f-b29b2e5f49c3",
        "id": "LJZysjXR-_Kq",
        "colab": {
          "base_uri": "https://localhost:8080/",
          "height": 170
        }
      },
      "source": [
        "torch.nn.init.xavier_uniform_(net.conv1.weight)\n",
        "torch.nn.init.xavier_uniform_(net.conv2.weight)\n",
        "torch.nn.init.xavier_uniform_(net.fc1.weight)"
      ],
      "execution_count": 0,
      "outputs": [
        {
          "output_type": "execute_result",
          "data": {
            "text/plain": [
              "Parameter containing:\n",
              "tensor([[ 0.0933,  0.0970, -0.1011,  ..., -0.0822,  0.0487, -0.0441],\n",
              "        [ 0.0493,  0.0942, -0.0766,  ...,  0.0957, -0.1071,  0.0864],\n",
              "        [ 0.0043,  0.0052, -0.0085,  ...,  0.0818,  0.0033,  0.0902],\n",
              "        ...,\n",
              "        [ 0.0330, -0.0087, -0.0356,  ...,  0.0923, -0.0445,  0.0649],\n",
              "        [-0.0432, -0.0146,  0.0526,  ..., -0.0928,  0.0341, -0.0349],\n",
              "        [-0.0972,  0.0085, -0.0555,  ...,  0.0651,  0.0918,  0.1049]],\n",
              "       requires_grad=True)"
            ]
          },
          "metadata": {
            "tags": []
          },
          "execution_count": 256
        }
      ]
    },
    {
      "cell_type": "code",
      "metadata": {
        "colab_type": "code",
        "id": "wfQDPXht-_Kv",
        "colab": {}
      },
      "source": [
        "import torch.optim as optim\n",
        "\n",
        "criterion = nn.CrossEntropyLoss()\n",
        "optimizer = optim.SGD(net.parameters(), lr=0.001, momentum=0.9)"
      ],
      "execution_count": 0,
      "outputs": []
    },
    {
      "cell_type": "code",
      "metadata": {
        "colab_type": "code",
        "outputId": "3b8f8d8d-546c-4667-fc41-14f5cf9ff971",
        "id": "SxeyVmcg-_Kw",
        "colab": {
          "base_uri": "https://localhost:8080/",
          "height": 34
        }
      },
      "source": [
        "for epoch in range(5):  # loop over the dataset multiple times\n",
        "\n",
        "    running_loss = 0.0\n",
        "    for i, data in enumerate(trainloader, 0):\n",
        "        # get the inputs\n",
        "        inputs, labels = data\n",
        "        # zero the parameter gradients\n",
        "        optimizer.zero_grad()\n",
        "\n",
        "        # forward + backward + optimize\n",
        "        outputs = net(inputs)\n",
        "        loss = criterion(outputs, labels)\n",
        "        loss.backward()\n",
        "        optimizer.step()\n",
        "\n",
        "        # print statistics\n",
        "        running_loss += loss.item()\n",
        "        if i % 500 == 499:    # print every 500 mini-batches\n",
        "            print('[%d, %5d] loss: %.3f' %\n",
        "                  (epoch + 1, i + 1, running_loss / 500))\n",
        "            running_loss = 0.0\n",
        "\n",
        "print('Finished Training')"
      ],
      "execution_count": 0,
      "outputs": [
        {
          "output_type": "stream",
          "text": [
            "Finished Training\n"
          ],
          "name": "stdout"
        }
      ]
    },
    {
      "cell_type": "code",
      "metadata": {
        "colab_type": "code",
        "outputId": "5127b72a-3dfb-4408-c433-cf0740cffe15",
        "id": "QwZM79Pj-_K0",
        "colab": {
          "base_uri": "https://localhost:8080/",
          "height": 34
        }
      },
      "source": [
        "correct = 0\n",
        "total = 0\n",
        "with torch.no_grad():\n",
        "    for data in testloader:\n",
        "        images, labels = data\n",
        "        outputs = net(images)\n",
        "        _, predicted = torch.max(outputs.data, 1)\n",
        "        total += labels.size(0)\n",
        "        correct += (predicted == labels).sum().item()\n",
        "\n",
        "print('Accuracy of the network on the 10000 test images: %d %%' % (\n",
        "    100 * correct / total))"
      ],
      "execution_count": 0,
      "outputs": [
        {
          "output_type": "stream",
          "text": [
            "Accuracy of the network on the 10000 test images: 39 %\n"
          ],
          "name": "stdout"
        }
      ]
    },
    {
      "cell_type": "markdown",
      "metadata": {
        "id": "UEkvVrooAxgF",
        "colab_type": "text"
      },
      "source": [
        "همانطور که مشاهده شد، با افزایش بچ سایز از ۳۲ به ۶۴ دقت ما از ۵۲ به 48 کاهش پیدا میکند و با کاهش آن از ۶۴ به ۲۵۶ ، دقت ما از 48 درصد به 39 درصد کاهش پیدا کرد. نتیجه ای که میگیریم این است که اگر بچ سایز را بدون دست زدن به لرنینگ ریت افزایش دهیم، دقت تخمین کاهش میابد\n",
        "برتری ای که ما در افزایش بچ سایز به دست می آوریم، افزایش سرعت داده های تمرینی است.این نتیجه نیز قابل پیشبینی بود، زیرا دسته ها بزرگتر هستند و طبقه بندی بزرگتر سرعت ما را افزایش میدهد. \n",
        "(کاهش زمان از 116 به ۹۹ و به 84(\n",
        "."
      ]
    },
    {
      "cell_type": "markdown",
      "metadata": {
        "id": "bVoJFsnT_SGk",
        "colab_type": "text"
      },
      "source": [
        "### increase learning rate 10 times"
      ]
    },
    {
      "cell_type": "code",
      "metadata": {
        "colab_type": "code",
        "id": "e60Xd7Vt_iJW",
        "colab": {}
      },
      "source": [
        "import torch.optim as optim\n",
        "\n",
        "criterion = nn.CrossEntropyLoss()\n",
        "optimizer = optim.SGD(net.parameters(), lr=0.01, momentum=0.9)"
      ],
      "execution_count": 0,
      "outputs": []
    },
    {
      "cell_type": "code",
      "metadata": {
        "colab_type": "code",
        "outputId": "553431f6-e850-4e3f-e236-ecfe438996be",
        "id": "P_4_-Qsl_iJc",
        "colab": {
          "base_uri": "https://localhost:8080/",
          "height": 34
        }
      },
      "source": [
        "for epoch in range(5):  # loop over the dataset multiple times\n",
        "\n",
        "    running_loss = 0.0\n",
        "    for i, data in enumerate(trainloader, 0):\n",
        "        # get the inputs\n",
        "        inputs, labels = data\n",
        "        # zero the parameter gradients\n",
        "        optimizer.zero_grad()\n",
        "\n",
        "        # forward + backward + optimize\n",
        "        outputs = net(inputs)\n",
        "        loss = criterion(outputs, labels)\n",
        "        loss.backward()\n",
        "        optimizer.step()\n",
        "\n",
        "        # print statistics\n",
        "        running_loss += loss.item()\n",
        "        if i % 500 == 499:    # print every 500 mini-batches\n",
        "            print('[%d, %5d] loss: %.3f' %\n",
        "                  (epoch + 1, i + 1, running_loss / 500))\n",
        "            running_loss = 0.0\n",
        "\n",
        "print('Finished Training')"
      ],
      "execution_count": 0,
      "outputs": [
        {
          "output_type": "stream",
          "text": [
            "Finished Training\n"
          ],
          "name": "stdout"
        }
      ]
    },
    {
      "cell_type": "code",
      "metadata": {
        "colab_type": "code",
        "outputId": "6d43c636-1b7f-484e-bb75-a0f45a1cfa86",
        "id": "eoAzUpVG_iJq",
        "colab": {
          "base_uri": "https://localhost:8080/",
          "height": 34
        }
      },
      "source": [
        "correct = 0\n",
        "total = 0\n",
        "with torch.no_grad():\n",
        "    for data in testloader:\n",
        "        images, labels = data\n",
        "        outputs = net(images)\n",
        "        _, predicted = torch.max(outputs.data, 1)\n",
        "        total += labels.size(0)\n",
        "        correct += (predicted == labels).sum().item()\n",
        "\n",
        "print('Accuracy of the network on the 10000 test images: %d %%' % (\n",
        "    100 * correct / total))"
      ],
      "execution_count": 0,
      "outputs": [
        {
          "output_type": "stream",
          "text": [
            "Accuracy of the network on the 10000 test images: 55 %\n"
          ],
          "name": "stdout"
        }
      ]
    },
    {
      "cell_type": "markdown",
      "metadata": {
        "colab_type": "text",
        "id": "SA1UteSO_q5A"
      },
      "source": [
        "### decrease learning rate 10 times"
      ]
    },
    {
      "cell_type": "code",
      "metadata": {
        "colab_type": "code",
        "id": "6zu0Ksit_q5D",
        "colab": {}
      },
      "source": [
        "import torch.optim as optim\n",
        "\n",
        "criterion = nn.CrossEntropyLoss()\n",
        "optimizer = optim.SGD(net.parameters(), lr=0.0001, momentum=0.9)"
      ],
      "execution_count": 0,
      "outputs": []
    },
    {
      "cell_type": "code",
      "metadata": {
        "colab_type": "code",
        "id": "XkUnJqpa_q5Q",
        "outputId": "1950db18-5b6b-4847-ab5a-5a86f96e7512",
        "colab": {
          "base_uri": "https://localhost:8080/",
          "height": 34
        }
      },
      "source": [
        "for epoch in range(5):  # loop over the dataset multiple times\n",
        "\n",
        "    running_loss = 0.0\n",
        "    for i, data in enumerate(trainloader, 0):\n",
        "        # get the inputs\n",
        "        inputs, labels = data\n",
        "        # zero the parameter gradients\n",
        "        optimizer.zero_grad()\n",
        "\n",
        "        # forward + backward + optimize\n",
        "        outputs = net(inputs)\n",
        "        loss = criterion(outputs, labels)\n",
        "        loss.backward()\n",
        "        optimizer.step()\n",
        "\n",
        "        # print statistics\n",
        "        running_loss += loss.item()\n",
        "        if i % 500 == 499:    # print every 500 mini-batches\n",
        "            print('[%d, %5d] loss: %.3f' %\n",
        "                  (epoch + 1, i + 1, running_loss / 500))\n",
        "            running_loss = 0.0\n",
        "\n",
        "print('Finished Training')"
      ],
      "execution_count": 0,
      "outputs": [
        {
          "output_type": "stream",
          "text": [
            "Finished Training\n"
          ],
          "name": "stdout"
        }
      ]
    },
    {
      "cell_type": "code",
      "metadata": {
        "colab_type": "code",
        "outputId": "bfc71f61-43bc-4c7a-dffc-f5e81efbb673",
        "id": "T25ACUKn_q5b",
        "colab": {
          "base_uri": "https://localhost:8080/",
          "height": 34
        }
      },
      "source": [
        "correct = 0\n",
        "total = 0\n",
        "with torch.no_grad():\n",
        "    for data in testloader:\n",
        "        images, labels = data\n",
        "        outputs = net(images)\n",
        "        _, predicted = torch.max(outputs.data, 1)\n",
        "        total += labels.size(0)\n",
        "        correct += (predicted == labels).sum().item()\n",
        "\n",
        "print('Accuracy of the network on the 10000 test images: %d %%' % (\n",
        "    100 * correct / total))"
      ],
      "execution_count": 0,
      "outputs": [
        {
          "output_type": "stream",
          "text": [
            "Accuracy of the network on the 10000 test images: 57 %\n"
          ],
          "name": "stdout"
        }
      ]
    },
    {
      "cell_type": "markdown",
      "metadata": {
        "id": "YYsogdtjBWTC",
        "colab_type": "text"
      },
      "source": [
        "حال میبینیم که با دست زدن به لرنینگ ریت، دقت افزایش پیدا میکند. اما حال که بچ سایز را زیاد کرده ایم، با کاهش دادن لرنینگ ریت میتوانیم دقت بیشتری را منتظر باشیم تا با افزایش دادن آن. یعنی در نهایت کاهش لرنینگ ریت به نفع ما تمام میشود"
      ]
    },
    {
      "cell_type": "markdown",
      "metadata": {
        "id": "fv9cJvrwCHrm",
        "colab_type": "text"
      },
      "source": [
        "# سوال ششم"
      ]
    },
    {
      "cell_type": "code",
      "metadata": {
        "colab_type": "code",
        "outputId": "a70316ef-ce09-4383-be8e-852ebac87254",
        "id": "UXukKXusEzcm",
        "colab": {
          "base_uri": "https://localhost:8080/",
          "height": 51
        }
      },
      "source": [
        "transform = transforms.Compose(\n",
        "    [transforms.ToTensor(),\n",
        "     transforms.Normalize((0.5, 0.5, 0.5), (0.5, 0.5, 0.5))])\n",
        "\n",
        "trainset = torchvision.datasets.CIFAR10(root='./data', train=True,\n",
        "                                        download=True, transform=transform)\n",
        "trainloader = torch.utils.data.DataLoader(trainset, batch_size=32,\n",
        "                                          shuffle=True, num_workers=2)\n",
        "\n",
        "testset = torchvision.datasets.CIFAR10(root='./data', train=False,\n",
        "                                       download=True, transform=transform)\n",
        "testloader = torch.utils.data.DataLoader(testset, batch_size=32,\n",
        "                                         shuffle=False, num_workers=2)\n",
        "\n",
        "classes = ('plane', 'car', 'bird', 'cat',\n",
        "           'deer', 'dog', 'frog', 'horse', 'ship', 'truck')"
      ],
      "execution_count": 0,
      "outputs": [
        {
          "output_type": "stream",
          "text": [
            "Files already downloaded and verified\n",
            "Files already downloaded and verified\n"
          ],
          "name": "stdout"
        }
      ]
    },
    {
      "cell_type": "markdown",
      "metadata": {
        "id": "xMvpQqEhFCPx",
        "colab_type": "text"
      },
      "source": [
        "## tanh"
      ]
    },
    {
      "cell_type": "code",
      "metadata": {
        "colab_type": "code",
        "id": "afZUZU1xEzcu",
        "colab": {}
      },
      "source": [
        "import torch.nn as nn\n",
        "import torch.nn.functional as F\n",
        "\n",
        "\n",
        "class Net(nn.Module):\n",
        "    def __init__(self):\n",
        "        super(Net, self).__init__()\n",
        "        self.conv1 = nn.Conv2d(3, 6, 5)\n",
        "        self.pool = nn.MaxPool2d(2, 2)\n",
        "        self.conv2 = nn.Conv2d(6, 16, 5)\n",
        "        self.fc1 = nn.Linear(16 * 5 * 5, 10)\n",
        "\n",
        "\n",
        "    def forward(self, x):\n",
        "        x = self.pool(F.tanh(self.conv1(x)))\n",
        "        x = self.pool(F.tanh(self.conv2(x)))\n",
        "        x = x.view(-1, 16 * 5 * 5)\n",
        "        x = self.fc1(x)\n",
        "        return x\n",
        "\n",
        "\n",
        "net = Net()"
      ],
      "execution_count": 0,
      "outputs": []
    },
    {
      "cell_type": "code",
      "metadata": {
        "colab_type": "code",
        "outputId": "7e2471a3-4f36-4529-f454-4cf852978ced",
        "id": "_ImQoTBxEzc1",
        "colab": {
          "base_uri": "https://localhost:8080/",
          "height": 170
        }
      },
      "source": [
        "torch.nn.init.xavier_uniform_(net.conv1.weight)\n",
        "torch.nn.init.xavier_uniform_(net.conv2.weight)\n",
        "torch.nn.init.xavier_uniform_(net.fc1.weight)"
      ],
      "execution_count": 0,
      "outputs": [
        {
          "output_type": "execute_result",
          "data": {
            "text/plain": [
              "Parameter containing:\n",
              "tensor([[ 0.1107, -0.0714, -0.1042,  ..., -0.0766, -0.0651,  0.0210],\n",
              "        [-0.0221, -0.0179, -0.0767,  ...,  0.0604,  0.0632, -0.1163],\n",
              "        [-0.0414, -0.0500,  0.0972,  ...,  0.0260,  0.0399, -0.0242],\n",
              "        ...,\n",
              "        [-0.0506, -0.0493,  0.0938,  ...,  0.1044,  0.0803,  0.0249],\n",
              "        [-0.0066, -0.0958,  0.0857,  ...,  0.0089,  0.0901,  0.0377],\n",
              "        [-0.0873, -0.0466, -0.0707,  ...,  0.1186,  0.0371,  0.0703]],\n",
              "       requires_grad=True)"
            ]
          },
          "metadata": {
            "tags": []
          },
          "execution_count": 291
        }
      ]
    },
    {
      "cell_type": "code",
      "metadata": {
        "colab_type": "code",
        "id": "LrnhQpLXEzc8",
        "colab": {}
      },
      "source": [
        "import torch.optim as optim\n",
        "\n",
        "criterion = nn.CrossEntropyLoss()\n",
        "optimizer = optim.SGD(net.parameters(), lr=0.001, momentum=0.9)"
      ],
      "execution_count": 0,
      "outputs": []
    },
    {
      "cell_type": "code",
      "metadata": {
        "colab_type": "code",
        "outputId": "05d100e0-cdb6-4ab2-a591-eab3f80dffb9",
        "id": "YztZWdG5EzdD",
        "colab": {
          "base_uri": "https://localhost:8080/",
          "height": 323
        }
      },
      "source": [
        "for epoch in range(5):  # loop over the dataset multiple times\n",
        "\n",
        "    running_loss = 0.0\n",
        "    for i, data in enumerate(trainloader, 0):\n",
        "        # get the inputs\n",
        "        inputs, labels = data\n",
        "        # zero the parameter gradients\n",
        "        optimizer.zero_grad()\n",
        "\n",
        "        # forward + backward + optimize\n",
        "        outputs = net(inputs)\n",
        "        loss = criterion(outputs, labels)\n",
        "        loss.backward()\n",
        "        optimizer.step()\n",
        "\n",
        "        # print statistics\n",
        "        running_loss += loss.item()\n",
        "        if i % 500 == 499:    # print every 500 mini-batches\n",
        "            print('[%d, %5d] loss: %.3f' %\n",
        "                  (epoch + 1, i + 1, running_loss / 500))\n",
        "            running_loss = 0.0\n",
        "\n",
        "print('Finished Training')"
      ],
      "execution_count": 0,
      "outputs": [
        {
          "output_type": "stream",
          "text": [
            "/usr/local/lib/python3.6/dist-packages/torch/nn/functional.py:1374: UserWarning: nn.functional.tanh is deprecated. Use torch.tanh instead.\n",
            "  warnings.warn(\"nn.functional.tanh is deprecated. Use torch.tanh instead.\")\n"
          ],
          "name": "stderr"
        },
        {
          "output_type": "stream",
          "text": [
            "[1,   500] loss: 2.025\n",
            "[1,  1000] loss: 1.785\n",
            "[1,  1500] loss: 1.667\n",
            "[2,   500] loss: 1.583\n",
            "[2,  1000] loss: 1.556\n",
            "[2,  1500] loss: 1.525\n",
            "[3,   500] loss: 1.482\n",
            "[3,  1000] loss: 1.458\n",
            "[3,  1500] loss: 1.443\n",
            "[4,   500] loss: 1.412\n",
            "[4,  1000] loss: 1.393\n",
            "[4,  1500] loss: 1.365\n",
            "[5,   500] loss: 1.338\n",
            "[5,  1000] loss: 1.345\n",
            "[5,  1500] loss: 1.312\n",
            "Finished Training\n"
          ],
          "name": "stdout"
        }
      ]
    },
    {
      "cell_type": "code",
      "metadata": {
        "colab_type": "code",
        "outputId": "c5b8515a-b587-43d8-f398-259e5b8f9063",
        "id": "PjQMOWurEzdG",
        "colab": {
          "base_uri": "https://localhost:8080/",
          "height": 68
        }
      },
      "source": [
        "correct = 0\n",
        "total = 0\n",
        "with torch.no_grad():\n",
        "    for data in testloader:\n",
        "        images, labels = data\n",
        "        outputs = net(images)\n",
        "        _, predicted = torch.max(outputs.data, 1)\n",
        "        total += labels.size(0)\n",
        "        correct += (predicted == labels).sum().item()\n",
        "\n",
        "print('Accuracy of the network on the 10000 test images: %d %%' % (\n",
        "    100 * correct / total))"
      ],
      "execution_count": 0,
      "outputs": [
        {
          "output_type": "stream",
          "text": [
            "/usr/local/lib/python3.6/dist-packages/torch/nn/functional.py:1374: UserWarning: nn.functional.tanh is deprecated. Use torch.tanh instead.\n",
            "  warnings.warn(\"nn.functional.tanh is deprecated. Use torch.tanh instead.\")\n"
          ],
          "name": "stderr"
        },
        {
          "output_type": "stream",
          "text": [
            "Accuracy of the network on the 10000 test images: 53 %\n"
          ],
          "name": "stdout"
        }
      ]
    },
    {
      "cell_type": "markdown",
      "metadata": {
        "colab_type": "text",
        "id": "tezETQ7pFYIs"
      },
      "source": [
        "## leaky_relu"
      ]
    },
    {
      "cell_type": "code",
      "metadata": {
        "colab_type": "code",
        "id": "JRkMjyjrFYIu",
        "colab": {}
      },
      "source": [
        "import torch.nn as nn\n",
        "import torch.nn.functional as F\n",
        "\n",
        "\n",
        "class Net(nn.Module):\n",
        "    def __init__(self):\n",
        "        super(Net, self).__init__()\n",
        "        self.conv1 = nn.Conv2d(3, 6, 5)\n",
        "        self.pool = nn.MaxPool2d(2, 2)\n",
        "        self.conv2 = nn.Conv2d(6, 16, 5)\n",
        "        self.fc1 = nn.Linear(16 * 5 * 5, 10)\n",
        "\n",
        "\n",
        "    def forward(self, x):\n",
        "        x = self.pool(F.leaky_relu(self.conv1(x)))\n",
        "        x = self.pool(F.leaky_relu(self.conv2(x)))\n",
        "        x = x.view(-1, 16 * 5 * 5)\n",
        "        x = self.fc1(x)\n",
        "        return x\n",
        "\n",
        "\n",
        "net = Net()"
      ],
      "execution_count": 0,
      "outputs": []
    },
    {
      "cell_type": "code",
      "metadata": {
        "colab_type": "code",
        "outputId": "55e31783-7146-48f0-902e-5b0e185caadd",
        "id": "pfOTYZNxFYIz",
        "colab": {
          "base_uri": "https://localhost:8080/",
          "height": 170
        }
      },
      "source": [
        "torch.nn.init.xavier_uniform_(net.conv1.weight)\n",
        "torch.nn.init.xavier_uniform_(net.conv2.weight)\n",
        "torch.nn.init.xavier_uniform_(net.fc1.weight)"
      ],
      "execution_count": 0,
      "outputs": [
        {
          "output_type": "execute_result",
          "data": {
            "text/plain": [
              "Parameter containing:\n",
              "tensor([[ 0.0805, -0.0810, -0.0173,  ...,  0.1023,  0.0349, -0.0632],\n",
              "        [ 0.0229,  0.0931,  0.1203,  ..., -0.0494, -0.0457,  0.0419],\n",
              "        [-0.1096,  0.0349,  0.0723,  ...,  0.0334, -0.0676,  0.1099],\n",
              "        ...,\n",
              "        [-0.0835, -0.0559,  0.0663,  ...,  0.0492, -0.0718,  0.0110],\n",
              "        [ 0.0240,  0.0574,  0.0913,  ..., -0.0146,  0.0799, -0.1026],\n",
              "        [-0.0024, -0.0019,  0.0739,  ..., -0.0717, -0.0264, -0.0098]],\n",
              "       requires_grad=True)"
            ]
          },
          "metadata": {
            "tags": []
          },
          "execution_count": 296
        }
      ]
    },
    {
      "cell_type": "code",
      "metadata": {
        "colab_type": "code",
        "id": "KCRD_eTrFYI7",
        "colab": {}
      },
      "source": [
        "import torch.optim as optim\n",
        "\n",
        "criterion = nn.CrossEntropyLoss()\n",
        "optimizer = optim.SGD(net.parameters(), lr=0.001, momentum=0.9)"
      ],
      "execution_count": 0,
      "outputs": []
    },
    {
      "cell_type": "code",
      "metadata": {
        "colab_type": "code",
        "outputId": "cbaa7b12-c3a5-4784-992b-5cbbc1cf729b",
        "id": "K9XgIk7-FYI-",
        "colab": {
          "base_uri": "https://localhost:8080/",
          "height": 289
        }
      },
      "source": [
        "for epoch in range(5):  # loop over the dataset multiple times\n",
        "\n",
        "    running_loss = 0.0\n",
        "    for i, data in enumerate(trainloader, 0):\n",
        "        # get the inputs\n",
        "        inputs, labels = data\n",
        "        # zero the parameter gradients\n",
        "        optimizer.zero_grad()\n",
        "\n",
        "        # forward + backward + optimize\n",
        "        outputs = net(inputs)\n",
        "        loss = criterion(outputs, labels)\n",
        "        loss.backward()\n",
        "        optimizer.step()\n",
        "\n",
        "        # print statistics\n",
        "        running_loss += loss.item()\n",
        "        if i % 500 == 499:    # print every 500 mini-batches\n",
        "            print('[%d, %5d] loss: %.3f' %\n",
        "                  (epoch + 1, i + 1, running_loss / 500))\n",
        "            running_loss = 0.0\n",
        "\n",
        "print('Finished Training')"
      ],
      "execution_count": 0,
      "outputs": [
        {
          "output_type": "stream",
          "text": [
            "[1,   500] loss: 2.093\n",
            "[1,  1000] loss: 1.820\n",
            "[1,  1500] loss: 1.669\n",
            "[2,   500] loss: 1.572\n",
            "[2,  1000] loss: 1.525\n",
            "[2,  1500] loss: 1.496\n",
            "[3,   500] loss: 1.457\n",
            "[3,  1000] loss: 1.420\n",
            "[3,  1500] loss: 1.411\n",
            "[4,   500] loss: 1.369\n",
            "[4,  1000] loss: 1.355\n",
            "[4,  1500] loss: 1.349\n",
            "[5,   500] loss: 1.308\n",
            "[5,  1000] loss: 1.305\n",
            "[5,  1500] loss: 1.284\n",
            "Finished Training\n"
          ],
          "name": "stdout"
        }
      ]
    },
    {
      "cell_type": "code",
      "metadata": {
        "colab_type": "code",
        "outputId": "75f538a6-d462-4132-f9a3-a0235535cf13",
        "id": "HB1IDLT5FYJB",
        "colab": {
          "base_uri": "https://localhost:8080/",
          "height": 34
        }
      },
      "source": [
        "correct = 0\n",
        "total = 0\n",
        "with torch.no_grad():\n",
        "    for data in testloader:\n",
        "        images, labels = data\n",
        "        outputs = net(images)\n",
        "        _, predicted = torch.max(outputs.data, 1)\n",
        "        total += labels.size(0)\n",
        "        correct += (predicted == labels).sum().item()\n",
        "\n",
        "print('Accuracy of the network on the 10000 test images: %d %%' % (\n",
        "    100 * correct / total))"
      ],
      "execution_count": 0,
      "outputs": [
        {
          "output_type": "stream",
          "text": [
            "Accuracy of the network on the 10000 test images: 54 %\n"
          ],
          "name": "stdout"
        }
      ]
    },
    {
      "cell_type": "markdown",
      "metadata": {
        "colab_type": "text",
        "id": "MAOYLhHpGBXD"
      },
      "source": [
        "## softplus"
      ]
    },
    {
      "cell_type": "code",
      "metadata": {
        "colab_type": "code",
        "id": "Inw2Wk4MGBXF",
        "colab": {}
      },
      "source": [
        "import torch.nn as nn\n",
        "import torch.nn.functional as F\n",
        "\n",
        "\n",
        "class Net(nn.Module):\n",
        "    def __init__(self):\n",
        "        super(Net, self).__init__()\n",
        "        self.conv1 = nn.Conv2d(3, 6, 5)\n",
        "        self.pool = nn.MaxPool2d(2, 2)\n",
        "        self.conv2 = nn.Conv2d(6, 16, 5)\n",
        "        self.fc1 = nn.Linear(16 * 5 * 5, 10)\n",
        "\n",
        "\n",
        "    def forward(self, x):\n",
        "        x = self.pool(F.softplus(self.conv1(x)))\n",
        "        x = self.pool(F.softplus(self.conv2(x)))\n",
        "        x = x.view(-1, 16 * 5 * 5)\n",
        "        x = self.fc1(x)\n",
        "        return x\n",
        "\n",
        "\n",
        "net = Net()"
      ],
      "execution_count": 0,
      "outputs": []
    },
    {
      "cell_type": "code",
      "metadata": {
        "colab_type": "code",
        "outputId": "5c78208a-659f-4051-fbb6-75d75237c8dd",
        "id": "R9NubRj6GBXI",
        "colab": {
          "base_uri": "https://localhost:8080/",
          "height": 170
        }
      },
      "source": [
        "torch.nn.init.xavier_uniform_(net.conv1.weight)\n",
        "torch.nn.init.xavier_uniform_(net.conv2.weight)\n",
        "torch.nn.init.xavier_uniform_(net.fc1.weight)"
      ],
      "execution_count": 0,
      "outputs": [
        {
          "output_type": "execute_result",
          "data": {
            "text/plain": [
              "Parameter containing:\n",
              "tensor([[-0.1157,  0.1070,  0.0532,  ..., -0.0891,  0.0280, -0.0180],\n",
              "        [ 0.0673, -0.0411, -0.0520,  ...,  0.1020,  0.0199,  0.0419],\n",
              "        [ 0.0690, -0.1033, -0.0422,  ...,  0.0076,  0.0164,  0.0672],\n",
              "        ...,\n",
              "        [ 0.0345,  0.1185,  0.0309,  ...,  0.1028, -0.0532,  0.0448],\n",
              "        [ 0.1169,  0.0087, -0.0560,  ...,  0.0066, -0.0228,  0.0910],\n",
              "        [-0.0041, -0.1093,  0.0452,  ..., -0.0262, -0.0504,  0.0995]],\n",
              "       requires_grad=True)"
            ]
          },
          "metadata": {
            "tags": []
          },
          "execution_count": 301
        }
      ]
    },
    {
      "cell_type": "code",
      "metadata": {
        "colab_type": "code",
        "id": "DE8U3VD5GBXM",
        "colab": {}
      },
      "source": [
        "import torch.optim as optim\n",
        "\n",
        "criterion = nn.CrossEntropyLoss()\n",
        "optimizer = optim.SGD(net.parameters(), lr=0.001, momentum=0.9)"
      ],
      "execution_count": 0,
      "outputs": []
    },
    {
      "cell_type": "code",
      "metadata": {
        "colab_type": "code",
        "outputId": "a0821f74-f5e5-4621-e3b3-363938f51e8f",
        "id": "aJ3XM022GBXP",
        "colab": {
          "base_uri": "https://localhost:8080/",
          "height": 289
        }
      },
      "source": [
        "for epoch in range(5):  # loop over the dataset multiple times\n",
        "\n",
        "    running_loss = 0.0\n",
        "    for i, data in enumerate(trainloader, 0):\n",
        "        # get the inputs\n",
        "        inputs, labels = data\n",
        "        # zero the parameter gradients\n",
        "        optimizer.zero_grad()\n",
        "\n",
        "        # forward + backward + optimize\n",
        "        outputs = net(inputs)\n",
        "        loss = criterion(outputs, labels)\n",
        "        loss.backward()\n",
        "        optimizer.step()\n",
        "\n",
        "        # print statistics\n",
        "        running_loss += loss.item()\n",
        "        if i % 500 == 499:    # print every 500 mini-batches\n",
        "            print('[%d, %5d] loss: %.3f' %\n",
        "                  (epoch + 1, i + 1, running_loss / 500))\n",
        "            running_loss = 0.0\n",
        "\n",
        "print('Finished Training')"
      ],
      "execution_count": 0,
      "outputs": [
        {
          "output_type": "stream",
          "text": [
            "[1,   500] loss: 2.285\n",
            "[1,  1000] loss: 2.078\n",
            "[1,  1500] loss: 1.917\n",
            "[2,   500] loss: 1.789\n",
            "[2,  1000] loss: 1.719\n",
            "[2,  1500] loss: 1.670\n",
            "[3,   500] loss: 1.612\n",
            "[3,  1000] loss: 1.591\n",
            "[3,  1500] loss: 1.559\n",
            "[4,   500] loss: 1.529\n",
            "[4,  1000] loss: 1.515\n",
            "[4,  1500] loss: 1.500\n",
            "[5,   500] loss: 1.464\n",
            "[5,  1000] loss: 1.460\n",
            "[5,  1500] loss: 1.441\n",
            "Finished Training\n"
          ],
          "name": "stdout"
        }
      ]
    },
    {
      "cell_type": "code",
      "metadata": {
        "colab_type": "code",
        "outputId": "e8ff8d53-802f-4b2c-9686-cc5b4abc848e",
        "id": "auso9QteGBXY",
        "colab": {
          "base_uri": "https://localhost:8080/",
          "height": 34
        }
      },
      "source": [
        "correct = 0\n",
        "total = 0\n",
        "with torch.no_grad():\n",
        "    for data in testloader:\n",
        "        images, labels = data\n",
        "        outputs = net(images)\n",
        "        _, predicted = torch.max(outputs.data, 1)\n",
        "        total += labels.size(0)\n",
        "        correct += (predicted == labels).sum().item()\n",
        "\n",
        "print('Accuracy of the network on the 10000 test images: %d %%' % (\n",
        "    100 * correct / total))"
      ],
      "execution_count": 0,
      "outputs": [
        {
          "output_type": "stream",
          "text": [
            "Accuracy of the network on the 10000 test images: 48 %\n"
          ],
          "name": "stdout"
        }
      ]
    },
    {
      "cell_type": "markdown",
      "metadata": {
        "id": "hqe1L783MAYN",
        "colab_type": "text"
      },
      "source": [
        "نتیجه میگیریم که بهترین \n",
        "activation function\n",
        "از بین توابع گفته شده\n",
        "relu\n",
        "و \n",
        "leaku_relu\n",
        "هستند"
      ]
    },
    {
      "cell_type": "markdown",
      "metadata": {
        "id": "pNUY-iooMi19",
        "colab_type": "text"
      },
      "source": [
        "# سوال هفتم"
      ]
    },
    {
      "cell_type": "code",
      "metadata": {
        "colab_type": "code",
        "outputId": "45cb4914-4b32-4b0f-86b6-6302db9227ed",
        "id": "TPNg4hy_Mqfn",
        "colab": {
          "base_uri": "https://localhost:8080/",
          "height": 51
        }
      },
      "source": [
        "transform = transforms.Compose(\n",
        "    [transforms.ToTensor(),\n",
        "     transforms.Normalize((0.5, 0.5, 0.5), (0.5, 0.5, 0.5))])\n",
        "\n",
        "trainset = torchvision.datasets.CIFAR10(root='./data', train=True,\n",
        "                                        download=True, transform=transform)\n",
        "trainloader = torch.utils.data.DataLoader(trainset, batch_size=32,\n",
        "                                          shuffle=True, num_workers=2)\n",
        "\n",
        "testset = torchvision.datasets.CIFAR10(root='./data', train=False,\n",
        "                                       download=True, transform=transform)\n",
        "testloader = torch.utils.data.DataLoader(testset, batch_size=32,\n",
        "                                         shuffle=False, num_workers=2)\n",
        "\n",
        "classes = ('plane', 'car', 'bird', 'cat',\n",
        "           'deer', 'dog', 'frog', 'horse', 'ship', 'truck')"
      ],
      "execution_count": 0,
      "outputs": [
        {
          "output_type": "stream",
          "text": [
            "Files already downloaded and verified\n",
            "Files already downloaded and verified\n"
          ],
          "name": "stdout"
        }
      ]
    },
    {
      "cell_type": "code",
      "metadata": {
        "colab_type": "code",
        "id": "a9D5agG6Mqfx",
        "colab": {}
      },
      "source": [
        "import torch.nn as nn\n",
        "import torch.nn.functional as F\n",
        "\n",
        "\n",
        "class Net(nn.Module):\n",
        "    def __init__(self):\n",
        "        super(Net, self).__init__()\n",
        "        self.conv1 = nn.Conv2d(3, 6, 5)\n",
        "        self.pool = nn.MaxPool2d(2, 2)\n",
        "        self.conv2 = nn.Conv2d(6, 16, 5)\n",
        "        self.fc1 = nn.Linear(16 * 5 * 5, 10)\n",
        "\n",
        "\n",
        "    def forward(self, x):\n",
        "        x = self.pool(F.relu(self.conv1(x)))\n",
        "        x = self.pool(F.relu(self.conv2(x)))\n",
        "        x = x.view(-1, 16 * 5 * 5)\n",
        "        x = self.fc1(x)\n",
        "        return x\n",
        "\n",
        "\n",
        "net = Net()"
      ],
      "execution_count": 0,
      "outputs": []
    },
    {
      "cell_type": "code",
      "metadata": {
        "colab_type": "code",
        "outputId": "dbfa4ac5-f635-49c9-95c8-e7a873fbce4e",
        "id": "wwKN34w-Mqf4",
        "colab": {
          "base_uri": "https://localhost:8080/",
          "height": 170
        }
      },
      "source": [
        "torch.nn.init.xavier_uniform_(net.conv1.weight)\n",
        "torch.nn.init.xavier_uniform_(net.conv2.weight)\n",
        "torch.nn.init.xavier_uniform_(net.fc1.weight)"
      ],
      "execution_count": 0,
      "outputs": [
        {
          "output_type": "execute_result",
          "data": {
            "text/plain": [
              "Parameter containing:\n",
              "tensor([[ 0.1055,  0.0954, -0.1014,  ..., -0.0333, -0.0583, -0.0636],\n",
              "        [ 0.0893,  0.0664,  0.1071,  ..., -0.0970,  0.0084,  0.0734],\n",
              "        [ 0.1165, -0.0450,  0.0469,  ..., -0.1168,  0.1153,  0.0772],\n",
              "        ...,\n",
              "        [ 0.0491, -0.1197, -0.0008,  ..., -0.0997, -0.0728, -0.0473],\n",
              "        [-0.0222, -0.0512, -0.0329,  ..., -0.0636, -0.0025, -0.0587],\n",
              "        [ 0.1205, -0.0201, -0.0874,  ..., -0.0212, -0.0204,  0.0528]],\n",
              "       requires_grad=True)"
            ]
          },
          "metadata": {
            "tags": []
          },
          "execution_count": 315
        }
      ]
    },
    {
      "cell_type": "markdown",
      "metadata": {
        "id": "-pevjaVYM7_i",
        "colab_type": "text"
      },
      "source": [
        "## with momentum"
      ]
    },
    {
      "cell_type": "code",
      "metadata": {
        "colab_type": "code",
        "id": "ONWMrJJtMqgF",
        "colab": {}
      },
      "source": [
        "import torch.optim as optim\n",
        "\n",
        "criterion = nn.CrossEntropyLoss()\n",
        "optimizer = optim.SGD(net.parameters(), lr=0.001, momentum=0.9)"
      ],
      "execution_count": 0,
      "outputs": []
    },
    {
      "cell_type": "code",
      "metadata": {
        "colab_type": "code",
        "outputId": "ac5a6563-b439-431f-99f7-965c1a2ce4fa",
        "id": "jjw9rl4eMqgK",
        "colab": {
          "base_uri": "https://localhost:8080/",
          "height": 289
        }
      },
      "source": [
        "for epoch in range(5):  # loop over the dataset multiple times\n",
        "\n",
        "    running_loss = 0.0\n",
        "    for i, data in enumerate(trainloader, 0):\n",
        "        # get the inputs\n",
        "        inputs, labels = data\n",
        "        # zero the parameter gradients\n",
        "        optimizer.zero_grad()\n",
        "\n",
        "        # forward + backward + optimize\n",
        "        outputs = net(inputs)\n",
        "        loss = criterion(outputs, labels)\n",
        "        loss.backward()\n",
        "        optimizer.step()\n",
        "\n",
        "        # print statistics\n",
        "        running_loss += loss.item()\n",
        "        if i % 500 == 499:    # print every 500 mini-batches\n",
        "            print('[%d, %5d] loss: %.3f' %\n",
        "                  (epoch + 1, i + 1, running_loss / 500))\n",
        "            running_loss = 0.0\n",
        "\n",
        "print('Finished Training')"
      ],
      "execution_count": 0,
      "outputs": [
        {
          "output_type": "stream",
          "text": [
            "[1,   500] loss: 2.063\n",
            "[1,  1000] loss: 1.823\n",
            "[1,  1500] loss: 1.708\n",
            "[2,   500] loss: 1.624\n",
            "[2,  1000] loss: 1.561\n",
            "[2,  1500] loss: 1.527\n",
            "[3,   500] loss: 1.464\n",
            "[3,  1000] loss: 1.464\n",
            "[3,  1500] loss: 1.433\n",
            "[4,   500] loss: 1.383\n",
            "[4,  1000] loss: 1.380\n",
            "[4,  1500] loss: 1.357\n",
            "[5,   500] loss: 1.323\n",
            "[5,  1000] loss: 1.303\n",
            "[5,  1500] loss: 1.294\n",
            "Finished Training\n"
          ],
          "name": "stdout"
        }
      ]
    },
    {
      "cell_type": "code",
      "metadata": {
        "colab_type": "code",
        "outputId": "6f8d2ef7-6760-4af6-b141-c77d624964f0",
        "id": "BmaLbiX1MqgO",
        "colab": {
          "base_uri": "https://localhost:8080/",
          "height": 34
        }
      },
      "source": [
        "correct = 0\n",
        "total = 0\n",
        "with torch.no_grad():\n",
        "    for data in testloader:\n",
        "        images, labels = data\n",
        "        outputs = net(images)\n",
        "        _, predicted = torch.max(outputs.data, 1)\n",
        "        total += labels.size(0)\n",
        "        correct += (predicted == labels).sum().item()\n",
        "\n",
        "print('Accuracy of the network on the 10000 test images: %d %%' % (\n",
        "    100 * correct / total))"
      ],
      "execution_count": 0,
      "outputs": [
        {
          "output_type": "stream",
          "text": [
            "Accuracy of the network on the 10000 test images: 53 %\n"
          ],
          "name": "stdout"
        }
      ]
    },
    {
      "cell_type": "markdown",
      "metadata": {
        "colab_type": "text",
        "id": "LI29JsZHNArZ"
      },
      "source": [
        "## without momentum"
      ]
    },
    {
      "cell_type": "code",
      "metadata": {
        "colab_type": "code",
        "id": "LoEB9a40NArc",
        "colab": {}
      },
      "source": [
        "import torch.optim as optim\n",
        "\n",
        "criterion = nn.CrossEntropyLoss()\n",
        "optimizer = optim.SGD(net.parameters(), lr=0.001)"
      ],
      "execution_count": 0,
      "outputs": []
    },
    {
      "cell_type": "code",
      "metadata": {
        "colab_type": "code",
        "outputId": "b9e263da-5613-4efc-dc28-afc200695e68",
        "id": "0zPoYIfGNArj",
        "colab": {
          "base_uri": "https://localhost:8080/",
          "height": 289
        }
      },
      "source": [
        "for epoch in range(5):  # loop over the dataset multiple times\n",
        "\n",
        "    running_loss = 0.0\n",
        "    for i, data in enumerate(trainloader, 0):\n",
        "        # get the inputs\n",
        "        inputs, labels = data\n",
        "        # zero the parameter gradients\n",
        "        optimizer.zero_grad()\n",
        "\n",
        "        # forward + backward + optimize\n",
        "        outputs = net(inputs)\n",
        "        loss = criterion(outputs, labels)\n",
        "        loss.backward()\n",
        "        optimizer.step()\n",
        "\n",
        "        # print statistics\n",
        "        running_loss += loss.item()\n",
        "        if i % 500 == 499:    # print every 500 mini-batches\n",
        "            print('[%d, %5d] loss: %.3f' %\n",
        "                  (epoch + 1, i + 1, running_loss / 500))\n",
        "            running_loss = 0.0\n",
        "\n",
        "print('Finished Training')"
      ],
      "execution_count": 0,
      "outputs": [
        {
          "output_type": "stream",
          "text": [
            "[1,   500] loss: 2.297\n",
            "[1,  1000] loss: 2.258\n",
            "[1,  1500] loss: 2.216\n",
            "[2,   500] loss: 2.141\n",
            "[2,  1000] loss: 2.072\n",
            "[2,  1500] loss: 2.013\n",
            "[3,   500] loss: 1.970\n",
            "[3,  1000] loss: 1.960\n",
            "[3,  1500] loss: 1.917\n",
            "[4,   500] loss: 1.902\n",
            "[4,  1000] loss: 1.860\n",
            "[4,  1500] loss: 1.854\n",
            "[5,   500] loss: 1.825\n",
            "[5,  1000] loss: 1.783\n",
            "[5,  1500] loss: 1.791\n",
            "Finished Training\n"
          ],
          "name": "stdout"
        }
      ]
    },
    {
      "cell_type": "code",
      "metadata": {
        "colab_type": "code",
        "outputId": "6fbe5add-bb76-4338-b7c5-5a0ce1caa3bf",
        "id": "SIBn2oymNArx",
        "colab": {
          "base_uri": "https://localhost:8080/",
          "height": 34
        }
      },
      "source": [
        "correct = 0\n",
        "total = 0\n",
        "with torch.no_grad():\n",
        "    for data in testloader:\n",
        "        images, labels = data\n",
        "        outputs = net(images)\n",
        "        _, predicted = torch.max(outputs.data, 1)\n",
        "        total += labels.size(0)\n",
        "        correct += (predicted == labels).sum().item()\n",
        "\n",
        "print('Accuracy of the network on the 10000 test images: %d %%' % (\n",
        "    100 * correct / total))"
      ],
      "execution_count": 0,
      "outputs": [
        {
          "output_type": "stream",
          "text": [
            "Accuracy of the network on the 10000 test images: 37 %\n"
          ],
          "name": "stdout"
        }
      ]
    },
    {
      "cell_type": "markdown",
      "metadata": {
        "id": "VVMnzt2xPK0G",
        "colab_type": "text"
      },
      "source": [
        "مشاهده شد که از لحاظ زمانی تفاوت خاصی بین دو حالت گفته شده وجود ندارد.\n",
        "اما تفاوت اصلی در دقت تخمین است که حالت با استفاده از مومنتوم بسیار بهتر است.\n",
        "\n",
        "علت به این گونه است:\n",
        "وقتی که داریم محاسبه میکنیم، در بخشی از کارمان، دقت به گونه ای است که در یک \n",
        "local minima \n",
        "گیر کرده ایم و فک میکنیم که به حالت ایده آل رسیده ایم\n",
        "اگر این مشکل برای ما ایجاد شد، با وجود موممنتوم های زیاد میتوانیم از این لوکال مینیما ها خارج شویم\n",
        "طبیعی است که اگر اندازه ی مومنتوم بیش از حد زیاد باشد، تلاش بیش از حد زیادی برای خروج از لوکال مینیما انجام میشود که الزاما خوب نیست.\n",
        "به عکس های درون لینک زیر میتوان دقت کرد\n",
        "https://www.quora.com/What-does-momentum-mean-in-neural-networks\n"
      ]
    }
  ]
}